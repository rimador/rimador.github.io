{
 "cells": [
  {
   "cell_type": "code",
   "execution_count": 2,
   "metadata": {},
   "outputs": [
    {
     "name": "stdout",
     "output_type": "stream",
     "text": [
      "Fet!\n"
     ]
    }
   ],
   "source": [
    "files = ['separat/col_0.txt', #paraula\n",
    "         'separat/col_1.txt', #d'on ve\n",
    "         'separat/col_2.txt', #codi\n",
    "         'separat/col_3.txt', # **** transcripció \n",
    "         #'separat/col_4.txt', # **** vocals (omit)\n",
    "         'separat/col_5.txt', # **** consonant \n",
    "         'separat/col_6.txt', # **** assonant \n",
    "         'separat/col_7.txt', #síl·labes\n",
    "         'separat/col_8.txt', #Vicc\n",
    "         'separat/col_9.txt', #Wiki\n",
    "         'separat/col_10.txt'] #Diec\n",
    "\n",
    "lines_per_file = []\n",
    "for file in files:\n",
    "    with open(file, 'r') as f:\n",
    "        lines = f.readlines()\n",
    "        lines_per_file.append(lines)\n",
    "\n",
    "output_file = 'diccionari_5.1.0.txt'\n",
    "with open(output_file, 'w') as f:\n",
    "    for i in range(len(lines_per_file[0])):\n",
    "        line_parts = [lines[i].strip() for lines in lines_per_file[:4]] \n",
    "        line_parts.append('***') \n",
    "        line_parts.extend([lines[i].strip() for lines in lines_per_file[4:]]) \n",
    "        \n",
    "        line_to_write = '$'.join(line_parts)\n",
    "        f.write(line_to_write + '\\n')\n",
    "\n",
    "print(\"Fet!\")"
   ]
  }
 ],
 "metadata": {
  "kernelspec": {
   "display_name": "Python 3",
   "language": "python",
   "name": "python3"
  },
  "language_info": {
   "codemirror_mode": {
    "name": "ipython",
    "version": 3
   },
   "file_extension": ".py",
   "mimetype": "text/x-python",
   "name": "python",
   "nbconvert_exporter": "python",
   "pygments_lexer": "ipython3",
   "version": "3.11.5"
  }
 },
 "nbformat": 4,
 "nbformat_minor": 2
}
