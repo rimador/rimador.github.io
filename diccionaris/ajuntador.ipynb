{
 "cells": [
  {
   "cell_type": "code",
   "execution_count": 1,
   "metadata": {},
   "outputs": [
    {
     "name": "stdout",
     "output_type": "stream",
     "text": [
      "Fet!\n"
     ]
    }
   ],
   "source": [
    "files = ['separat/col_0.txt',  #paraula\n",
    "         'separat/col_1.txt',  #d'on ve\n",
    "         'separat/col_2.txt',  #codi\n",
    "         'separat/col_3.txt',  #rima consonant \n",
    "         'separat/col_4.txt',  #rima assonant \n",
    "         'separat/col_5.txt',  #síl·labes\n",
    "         'separat/col_6.txt',  #Vicc\n",
    "         'separat/col_7.txt',  #Wiki\n",
    "         'separat/col_8.txt',  #Diec\n",
    "         'separat/col_9.txt',  #transcripció  \n",
    "]\n",
    "\n",
    "lines_per_file = []\n",
    "for file in files:\n",
    "    with open(file, 'r') as f:\n",
    "        lines = f.readlines()\n",
    "        lines_per_file.append(lines)\n",
    "\n",
    "output_file = 'diccionari.5.1.3.txt'\n",
    "with open(output_file, 'w') as f:\n",
    "    for i in range(len(lines_per_file[0])):\n",
    "        line_parts = [lines[i].strip() for lines in lines_per_file]\n",
    "        \n",
    "        extra_column = f\"{line_parts[0]} € {line_parts[1]} € {line_parts[2]} € {line_parts[9]}\"\n",
    "        line_parts.append(extra_column)\n",
    "\n",
    "        line_to_write = '$'.join(line_parts)\n",
    "        f.write(line_to_write + '\\n')\n",
    "\n",
    "print(\"Fet!\")\n"
   ]
  }
 ],
 "metadata": {
  "kernelspec": {
   "display_name": "Python 3",
   "language": "python",
   "name": "python3"
  },
  "language_info": {
   "codemirror_mode": {
    "name": "ipython",
    "version": 3
   },
   "file_extension": ".py",
   "mimetype": "text/x-python",
   "name": "python",
   "nbconvert_exporter": "python",
   "pygments_lexer": "ipython3",
   "version": "3.11.5"
  }
 },
 "nbformat": 4,
 "nbformat_minor": 2
}
