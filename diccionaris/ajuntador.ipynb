{
 "cells": [
  {
   "cell_type": "code",
   "execution_count": 1,
   "metadata": {},
   "outputs": [
    {
     "name": "stdout",
     "output_type": "stream",
     "text": [
      "Fet!\n"
     ]
    }
   ],
   "source": [
    "files = ['../../rimador.github.io/diccionaris/separat/col_0.txt', #paraula\n",
    "         '../../rimador.github.io/diccionaris/separat/col_1.txt', #d'on ve\n",
    "         '../../rimador.github.io/diccionaris/separat/col_2.txt', #codi\n",
    "         '../../rimador.github.io/diccionaris/separat/col_3.txt', # **** transcripció \n",
    "         #'../../rimador.github.io/diccionaris/separat/col_4.txt', # **** vocals (omit)\n",
    "         '../../rimador.github.io/diccionaris/separat/col_5.txt', # **** consonant \n",
    "         '../../rimador.github.io/diccionaris/separat/col_6.txt', # **** assonant \n",
    "         '../../rimador.github.io/diccionaris/separat/col_7.txt', #síl·labes\n",
    "         '../../rimador.github.io/diccionaris/separat/col_8.txt', #Vicc\n",
    "         '../../rimador.github.io/diccionaris/separat/col_9.txt', #Wiki\n",
    "         '../../rimador.github.io/diccionaris/separat/col_10.txt'] #Diec\n",
    "\n",
    "lines_per_file = []\n",
    "for file in files:\n",
    "    with open(file, 'r') as f:\n",
    "        lines = f.readlines()\n",
    "        lines_per_file.append(lines)\n",
    "\n",
    "output_file = '../../rimador.github.io/diccionaris/diccionari_5.1.txt'\n",
    "with open(output_file, 'w') as f:\n",
    "    for i in range(len(lines_per_file[0])):\n",
    "        line_parts = [lines[i].strip() for lines in lines_per_file[:4]] \n",
    "        line_parts.append('***') \n",
    "        line_parts.extend([lines[i].strip() for lines in lines_per_file[4:]]) \n",
    "        \n",
    "        line_to_write = '$'.join(line_parts)\n",
    "        f.write(line_to_write + '\\n')\n",
    "\n",
    "print(\"Fet!\")"
   ]
  }
 ],
 "metadata": {
  "kernelspec": {
   "display_name": "Python 3",
   "language": "python",
   "name": "python3"
  },
  "language_info": {
   "codemirror_mode": {
    "name": "ipython",
    "version": 3
   },
   "file_extension": ".py",
   "mimetype": "text/x-python",
   "name": "python",
   "nbconvert_exporter": "python",
   "pygments_lexer": "ipython3",
   "version": "3.11.5"
  }
 },
 "nbformat": 4,
 "nbformat_minor": 2
}
