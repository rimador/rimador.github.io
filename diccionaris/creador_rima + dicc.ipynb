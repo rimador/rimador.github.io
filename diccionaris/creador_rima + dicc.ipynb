{
 "cells": [
  {
   "cell_type": "code",
   "execution_count": 1,
   "id": "1277d678",
   "metadata": {},
   "outputs": [
    {
     "name": "stdout",
     "output_type": "stream",
     "text": [
      "Fet! (rima creada)\n",
      "Fet! (diccionari creat)\n"
     ]
    }
   ],
   "source": [
    "# Obrim l'arxiu de transcripcions\n",
    "with open(\"separat/col_10 (canvis aquí).txt\", \"r\", encoding=\"utf-8\") as doc2:\n",
    "    transcripcions = [linia.strip().split(\" € \")[-1] for linia in doc2 if \"€\" in linia]\n",
    "\n",
    "# Guardem la columna de transcripcions a un nou arxiu\n",
    "with open(\"separat/col_9.txt\", \"w\", encoding=\"utf-8\") as doc9:\n",
    "    for trans in transcripcions:\n",
    "        doc9.write(trans + \"\\n\")\n",
    "\n",
    "# Guardem les paraules a partir de l'accent final en un altre arxiu\n",
    "with open(\"separat/col_3.txt\", \"w\", encoding=\"utf-8\") as doc3:\n",
    "    finals = []\n",
    "    for linia in transcripcions:\n",
    "        paraula = linia.split(\" € \")[-1]\n",
    "        final = paraula.split(\"ˈ\")[-1]\n",
    "        finals.append(final)\n",
    "        doc3.write(final + '\\n')\n",
    "\n",
    "# Separem i guardem els sons vocals dels finals a un altre arxiu\n",
    "with open(\"separat/col_4.txt\", \"w\", encoding=\"utf-8\") as doc4:\n",
    "    vocals = []\n",
    "    for linia in finals:\n",
    "        vocal = ''.join([lletra for lletra in linia if lletra in \"ɔəaeiou@Eɛˈ\"])\n",
    "        vocals.append(vocal)\n",
    "        doc4.write(vocal + '\\n')\n",
    "\n",
    "print(\"Fet! (rima creada)\")\n",
    "\n",
    "\n",
    "files = ['separat/col_0.txt',  #paraula\n",
    "         'separat/col_1.txt',  #d'on ve\n",
    "         'separat/col_2.txt',  #codi\n",
    "         'separat/col_3.txt',  #rima consonant \n",
    "         'separat/col_4.txt',  #rima assonant \n",
    "         'separat/col_5.txt',  #síl·labes\n",
    "         'separat/col_6.txt',  #Vicc\n",
    "         'separat/col_7.txt',  #Wiki\n",
    "         'separat/col_8.txt',  #Diec\n",
    "         'separat/col_9.txt',  #transcripció  \n",
    "]\n",
    "\n",
    "lines_per_file = []\n",
    "for file in files:\n",
    "    with open(file, 'r') as f:\n",
    "        lines = f.readlines()\n",
    "        lines_per_file.append(lines)\n",
    "\n",
    "output_file = 'diccionari.5.1.3.txt'\n",
    "with open(output_file, 'w') as f:\n",
    "    for i in range(len(lines_per_file[0])):\n",
    "        line_parts = [lines[i].strip() for lines in lines_per_file]\n",
    "        \n",
    "        extra_column = f\"{line_parts[0]} € {line_parts[1]} € {line_parts[2]} € {line_parts[9]}\"\n",
    "        line_parts.append(extra_column)\n",
    "\n",
    "        line_to_write = '$'.join(line_parts)\n",
    "        f.write(line_to_write + '\\n')\n",
    "\n",
    "print(\"Fet! (diccionari creat)\")\n"
   ]
  }
 ],
 "metadata": {
  "kernelspec": {
   "display_name": "Python 3",
   "language": "python",
   "name": "python3"
  },
  "language_info": {
   "codemirror_mode": {
    "name": "ipython",
    "version": 3
   },
   "file_extension": ".py",
   "mimetype": "text/x-python",
   "name": "python",
   "nbconvert_exporter": "python",
   "pygments_lexer": "ipython3",
   "version": "3.11.5"
  }
 },
 "nbformat": 4,
 "nbformat_minor": 5
}
