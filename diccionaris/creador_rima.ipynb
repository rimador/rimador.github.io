{
 "cells": [
  {
   "cell_type": "code",
   "execution_count": 2,
   "id": "1277d678",
   "metadata": {},
   "outputs": [
    {
     "name": "stdout",
     "output_type": "stream",
     "text": [
      "Fet!\n"
     ]
    }
   ],
   "source": [
    "# Obrim l'arxiu de transcripcions\n",
    "with open(\"separat/col_10 (canvis aquí).txt\", \"r\", encoding=\"utf-8\") as doc2:\n",
    "    transcripcions = [linia.strip().split(\" € \")[-1] for linia in doc2 if \"€\" in linia]\n",
    "\n",
    "# Guardem la columna de transcripcions a un nou arxiu\n",
    "with open(\"separat/col_9.txt\", \"w\", encoding=\"utf-8\") as doc9:\n",
    "    for trans in transcripcions:\n",
    "        doc9.write(trans + \"\\n\")\n",
    "\n",
    "# Guardem les paraules a partir de l'accent final en un altre arxiu\n",
    "with open(\"separat/col_3.txt\", \"w\", encoding=\"utf-8\") as doc3:\n",
    "    finals = []\n",
    "    for linia in transcripcions:\n",
    "        paraula = linia.split(\" € \")[-1]\n",
    "        final = paraula.split(\"ˈ\")[-1]\n",
    "        finals.append(final)\n",
    "        doc3.write(final + '\\n')\n",
    "\n",
    "# Separem i guardem els sons vocals dels finals a un altre arxiu\n",
    "with open(\"separat/col_4.txt\", \"w\", encoding=\"utf-8\") as doc4:\n",
    "    vocals = []\n",
    "    for linia in finals:\n",
    "        vocal = ''.join([lletra for lletra in linia if lletra in \"ɔəaeiou@Eɛˈ\"])\n",
    "        vocals.append(vocal)\n",
    "        doc4.write(vocal + '\\n')\n",
    "\n",
    "print(\"Fet!\")"
   ]
  }
 ],
 "metadata": {
  "kernelspec": {
   "display_name": "Python 3",
   "language": "python",
   "name": "python3"
  },
  "language_info": {
   "codemirror_mode": {
    "name": "ipython",
    "version": 3
   },
   "file_extension": ".py",
   "mimetype": "text/x-python",
   "name": "python",
   "nbconvert_exporter": "python",
   "pygments_lexer": "ipython3",
   "version": "3.11.5"
  }
 },
 "nbformat": 4,
 "nbformat_minor": 5
}
