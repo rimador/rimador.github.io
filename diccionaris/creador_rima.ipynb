{
 "cells": [
  {
   "cell_type": "code",
   "execution_count": null,
   "id": "1277d678",
   "metadata": {},
   "outputs": [],
   "source": [
    "#transcripcions\n",
    "doc2 = open(\"separat/col_3.txt\", \"r\",encoding=\"utf-8\")\n",
    "transcripcions = doc2.readlines()\n",
    "doc2.close()\n",
    " \n",
    "#guarda la paraules a partir de l'accent a finals\n",
    "doc4 = open(\"col_5.txt\",\"w\", encoding=\"utf-8\")\n",
    "finals = []\n",
    "for linia in transcripcions:\n",
    "    paraula = linia.replace('\\n','')\n",
    "    final = paraula.split(\"ˈ\")[-1]\n",
    "    finals.append(final)\n",
    "    doc4.write(final + '\\n')\n",
    "doc4.close() \n",
    "\n",
    "#separa sons vocàlics dels finals i els guarda a vocals \n",
    "doc5 = open(\"col_6.txt\",\"w\", encoding=\"utf-8\")    \n",
    "k = 0\n",
    "vocals = []\n",
    "for linia in finals:\n",
    "    vocals.append('')\n",
    "    for lletra in linia:\n",
    "        if lletra in \"ɔəaeiou@Eɛˈ\":\n",
    "            vocals[k] = vocals[k] + lletra\n",
    "    doc5.write(vocals[k] + '\\n')\n",
    "    k +=1\n",
    "doc5.close()"
   ]
  }
 ],
 "metadata": {
  "kernelspec": {
   "display_name": "Python 3",
   "language": "python",
   "name": "python3"
  },
  "language_info": {
   "codemirror_mode": {
    "name": "ipython",
    "version": 3
   },
   "file_extension": ".py",
   "mimetype": "text/x-python",
   "name": "python",
   "nbconvert_exporter": "python",
   "pygments_lexer": "ipython3",
   "version": "3.11.5"
  }
 },
 "nbformat": 4,
 "nbformat_minor": 5
}
