{
 "cells": [
  {
   "cell_type": "code",
   "execution_count": 2,
   "id": "1277d678",
   "metadata": {},
   "outputs": [
    {
     "name": "stdout",
     "output_type": "stream",
     "text": [
      "Fet!\n"
     ]
    }
   ],
   "source": [
    "#transcripcions\n",
    "doc2 = open(\"separat/col_10 (canvis aquí).txt\", \"r\",encoding=\"utf-8\")\n",
    "transcripcions = [linia.strip().split(\" € \", 1)[1] for linia in doc2 if \"€\" in linia]\n",
    "doc2.close()\n",
    " \n",
    "#genera columna de transcripció\n",
    "doc9 = open(\"separat/col_9.txt\", \"w\", encoding=\"utf-8\")\n",
    "for trans in transcripcions:\n",
    "    doc9.write(trans + \"\\n\")\n",
    "doc9.close()\n",
    "\n",
    "\n",
    "#guarda la paraules a partir de l'accent a finals\n",
    "doc3 = open(\"separat/col_3.txt\",\"w\", encoding=\"utf-8\")\n",
    "finals = []\n",
    "for linia in transcripcions:\n",
    "    paraula = linia.replace('\\n','')\n",
    "    final = paraula.split(\"ˈ\")[-1]\n",
    "    finals.append(final)\n",
    "    doc3.write(final + '\\n')\n",
    "doc3.close() \n",
    "\n",
    "#separa sons vocàlics dels finals i els guarda a vocals \n",
    "doc4 = open(\"separat/col_4.txt\",\"w\", encoding=\"utf-8\")    \n",
    "k = 0\n",
    "vocals = []\n",
    "for linia in finals:\n",
    "    vocals.append('')\n",
    "    for lletra in linia:\n",
    "        if lletra in \"ɔəaeiou@Eɛˈ\":\n",
    "            vocals[k] = vocals[k] + lletra\n",
    "    doc4.write(vocals[k] + '\\n')\n",
    "    k +=1\n",
    "doc4.close()\n",
    "\n",
    "print(\"Fet!\")"
   ]
  }
 ],
 "metadata": {
  "kernelspec": {
   "display_name": "Python 3",
   "language": "python",
   "name": "python3"
  },
  "language_info": {
   "codemirror_mode": {
    "name": "ipython",
    "version": 3
   },
   "file_extension": ".py",
   "mimetype": "text/x-python",
   "name": "python",
   "nbconvert_exporter": "python",
   "pygments_lexer": "ipython3",
   "version": "3.11.5"
  }
 },
 "nbformat": 4,
 "nbformat_minor": 5
}
