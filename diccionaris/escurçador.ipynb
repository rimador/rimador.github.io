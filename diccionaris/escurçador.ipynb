{
 "cells": [
  {
   "cell_type": "code",
   "execution_count": 9,
   "metadata": {},
   "outputs": [
    {
     "name": "stdout",
     "output_type": "stream",
     "text": [
      "Fet!\n",
      "Nombre de supressions: 319918\n"
     ]
    }
   ],
   "source": [
    "def reduir(entrada, sortida):\n",
    "    num = 0\n",
    "    caracters_verbs = [\"3\",\"4\",\"5\",\"6\",\"7\",\"Z\",\"B\",\"V\"]\n",
    "    with open(entrada, 'r',encoding=\"utf-8\") as arxiu_entrada, open(sortida, 'w',encoding=\"utf-8\") as arxiu_sortida:\n",
    "        for linia in arxiu_entrada:\n",
    "            paraula = linia.split(\"$\")   \n",
    "\n",
    "            if paraula[2][0] == \"Y\":\n",
    "                num += 1\n",
    "                continue\n",
    "\n",
    "            if paraula[2].startswith(\"AO0CN\") and not paraula[0].endswith(\"u\"):\n",
    "                num += 1\n",
    "                continue\n",
    "\n",
    "            if any(caracter.isdigit() for caracter in paraula[0]):\n",
    "                num += 1\n",
    "                continue\n",
    "\n",
    "            if paraula[2].startswith(\"V\") and paraula[2][-1] in caracters_verbs:\n",
    "                num += 1\n",
    "                continue\n",
    "\n",
    "            if paraula[4].startswith(\"nshtctplp\"):\n",
    "                num += 1\n",
    "                continue\n",
    "            \n",
    "            if paraula[0][0] == '-' or paraula[0][0] == \"'\":\n",
    "                if paraula[0].startswith(\"'Ndra\") or paraula[0].startswith(\"'s-Her\"):\n",
    "                    arxiu_sortida.write(linia)\n",
    "                else:\n",
    "                    num += 1\n",
    "                    continue\n",
    "\n",
    "            else:\n",
    "                arxiu_sortida.write(linia)\n",
    "\n",
    "    print(\"Fet!\")\n",
    "    print(f\"Nombre de supressions: {num}\")\n",
    "\n",
    "# Exemple d'ús\n",
    "entrada = 'diccionari_original.txt'\n",
    "sortida = 'noudiccionari2.2.txt'\n",
    "reduir(entrada, sortida)\n",
    "\n"
   ]
  }
 ],
 "metadata": {
  "kernelspec": {
   "display_name": "Python 3",
   "language": "python",
   "name": "python3"
  },
  "language_info": {
   "codemirror_mode": {
    "name": "ipython",
    "version": 3
   },
   "file_extension": ".py",
   "mimetype": "text/x-python",
   "name": "python",
   "nbconvert_exporter": "python",
   "pygments_lexer": "ipython3",
   "version": "3.11.5"
  }
 },
 "nbformat": 4,
 "nbformat_minor": 2
}
