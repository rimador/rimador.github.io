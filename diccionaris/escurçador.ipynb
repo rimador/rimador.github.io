{
 "cells": [
  {
   "cell_type": "code",
   "execution_count": 5,
   "metadata": {},
   "outputs": [
    {
     "name": "stderr",
     "output_type": "stream",
     "text": [
      "Escurçant diccionari: 100%|██████████| 1191928/1191928 [00:08<00:00, 140278.84 elements/s]\n"
     ]
    },
    {
     "name": "stdout",
     "output_type": "stream",
     "text": [
      "Fet!\n",
      "Nombre de supressions: 319918\n",
      "Nombre de reemplaços: 4793\n"
     ]
    }
   ],
   "source": [
    "from tqdm import tqdm\n",
    "\n",
    "def reduir_i_reemplaçar(entrada, sortida):\n",
    "    num_suppressions = 0\n",
    "    num_replacements = 0\n",
    "    caracters_verbs = [\"3\",\"4\",\"5\",\"6\",\"7\",\"Z\",\"B\",\"V\"]\n",
    "\n",
    "    try:\n",
    "        with open(entrada, 'r', encoding=\"utf-8\") as arxiu_entrada:\n",
    "            linies = arxiu_entrada.readlines()\n",
    "    except IOError:\n",
    "        print(f\"Error: Could not read file {entrada}\")\n",
    "        return\n",
    "\n",
    "    progress_bar = tqdm(total=len(linies), desc=\"Escurçant diccionari\", unit=\" elements\")\n",
    "\n",
    "    noves_linies = []\n",
    "    for linia in linies:\n",
    "        progress_bar.update(1)\n",
    "        paraula = linia.strip().split('$')\n",
    "\n",
    "        # Condicions per suprimir línies\n",
    "        if paraula[2][0] == \"Y\":\n",
    "            num_suppressions += 1\n",
    "            continue\n",
    "\n",
    "        if paraula[2].startswith(\"AO0CN\") and not paraula[0].endswith(\"u\"):\n",
    "            num_suppressions += 1\n",
    "            continue\n",
    "\n",
    "        if any(caracter.isdigit() for caracter in paraula[0]):\n",
    "            num_suppressions += 1\n",
    "            continue\n",
    "\n",
    "        if paraula[2].startswith(\"V\") and paraula[2][-1] in caracters_verbs:\n",
    "            num_suppressions += 1\n",
    "            continue\n",
    "\n",
    "        if paraula[4].startswith(\"nshtctplp\"):\n",
    "            num_suppressions += 1\n",
    "            continue\n",
    "\n",
    "        if paraula[0][0] == '-' or paraula[0][0] == \"'\":\n",
    "            if paraula[0].startswith(\"'Ndra\") or paraula[0].startswith(\"'s-Her\"):\n",
    "                pass\n",
    "            else:\n",
    "                num_suppressions += 1\n",
    "                continue\n",
    "\n",
    "        # Reemplaçament de valors en la columna 2\n",
    "        if len(paraula) > 2 and paraula[2][0] in {\"R\", \"C\", \"I\", \"S\", \"F\"}:\n",
    "            paraula[2] = \"Z\" + paraula[2]\n",
    "            num_replacements += 1\n",
    "\n",
    "        noves_linies.append('$'.join(paraula) + '\\n')\n",
    "\n",
    "\n",
    "\n",
    "    try:\n",
    "        with open(sortida, 'w', encoding=\"utf-8\") as arxiu_sortida:\n",
    "            arxiu_sortida.writelines(noves_linies)\n",
    "    except IOError:\n",
    "        print(f\"Error: Could not write to file {sortida}\")\n",
    "        return\n",
    "    \n",
    "    progress_bar.close()\n",
    "\n",
    "    print(\"Fet!\")\n",
    "    print(f\"Nombre de supressions: {num_suppressions}\")\n",
    "    print(f\"Nombre de reemplaços: {num_replacements}\")\n",
    "\n",
    "# Exemple d'ús\n",
    "entrada = 'diccionari_original.txt'\n",
    "sortida = 'noudiccionari2.4.txt'\n",
    "reduir_i_reemplaçar(entrada, sortida)"
   ]
  }
 ],
 "metadata": {
  "kernelspec": {
   "display_name": "Python 3",
   "language": "python",
   "name": "python3"
  },
  "language_info": {
   "codemirror_mode": {
    "name": "ipython",
    "version": 3
   },
   "file_extension": ".py",
   "mimetype": "text/x-python",
   "name": "python",
   "nbconvert_exporter": "python",
   "pygments_lexer": "ipython3",
   "version": "3.11.5"
  }
 },
 "nbformat": 4,
 "nbformat_minor": 2
}
