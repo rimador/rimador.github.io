{
 "cells": [
  {
   "cell_type": "code",
   "execution_count": 2,
   "metadata": {},
   "outputs": [
    {
     "name": "stdout",
     "output_type": "stream",
     "text": [
      "Resultat per \"acetilasa\": No trobat\n"
     ]
    }
   ],
   "source": [
    "import requests\n",
    "from bs4 import BeautifulSoup\n",
    "\n",
    "# URL base del diccionari\n",
    "url = 'https://cit.iec.cat/entrada.asp?pagina=10'\n",
    "\n",
    "# Llista de paraules per cercar\n",
    "llista_de_paraules = ['acetilasa']\n",
    "\n",
    "# Funció per fer la cerca\n",
    "def cerca_paraula(paraula):\n",
    "    # Aquí és on has d'afegir els paràmetres necessaris per la sol·licitud\n",
    "    params = {\n",
    "        'search_term': paraula,\n",
    "        # afegeix altres paràmetres si cal\n",
    "    }\n",
    "\n",
    "    # Enviar la sol·licitud POST (o GET depenent de la pàgina)\n",
    "    resposta = requests.post(url, data=params)\n",
    "    \n",
    "    # Comprovar que la sol·licitud ha tingut èxit\n",
    "    if resposta.status_code == 200:\n",
    "        # Analitzar la resposta HTML\n",
    "        soup = BeautifulSoup(resposta.text, 'html.parser')\n",
    "        \n",
    "        # Extreure la informació desitjada\n",
    "        # Això dependrà de l'estructura HTML de la pàgina\n",
    "        resultat = soup.find('div', {'class': 'resultat'})\n",
    "        \n",
    "        # Retornar el resultat\n",
    "        return resultat.text if resultat else 'No trobat'\n",
    "    else:\n",
    "        return 'Error en la sol·licitud'\n",
    "\n",
    "# Realitzar la cerca per a cada paraula\n",
    "resultats = {paraula: cerca_paraula(paraula) for paraula in llista_de_paraules}\n",
    "\n",
    "# Imprimir els resultats\n",
    "for paraula, resultat in resultats.items():\n",
    "    print(f'Resultat per \"{paraula}\": {resultat}')"
   ]
  }
 ],
 "metadata": {
  "kernelspec": {
   "display_name": "Python 3",
   "language": "python",
   "name": "python3"
  },
  "language_info": {
   "codemirror_mode": {
    "name": "ipython",
    "version": 3
   },
   "file_extension": ".py",
   "mimetype": "text/x-python",
   "name": "python",
   "nbconvert_exporter": "python",
   "pygments_lexer": "ipython3",
   "version": "3.11.5"
  }
 },
 "nbformat": 4,
 "nbformat_minor": 2
}
