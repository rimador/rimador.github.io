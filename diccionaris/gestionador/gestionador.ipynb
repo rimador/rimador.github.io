{
 "cells": [
  {
   "cell_type": "code",
   "execution_count": 15,
   "id": "8a4995f1-b36e-4996-ae9c-c32ee2e6855b",
   "metadata": {
    "tags": []
   },
   "outputs": [
    {
     "name": "stdout",
     "output_type": "stream",
     "text": [
      "Fet!\n",
      "Nombre d'impressions: 4793\n"
     ]
    }
   ],
   "source": [
    "#Escriu a un arxiu aquelles files del diccionari la tercera columna de la qual comenci o no amb determinades lletres\n",
    "def filtra_arxiu(entrada, sortida):\n",
    "    num = 0           \n",
    "    with open(entrada, 'r') as arxiu_entrada, open(sortida, 'w') as arxiu_sortida:\n",
    "        for linia in arxiu_entrada:\n",
    "            columnes = linia.split('$')   \n",
    "            if len(columnes) >= 3 and not columnes[2].startswith(\"N\") and not columnes[2].startswith(\"A\") and not columnes[2].startswith(\"V\") and not columnes[2].startswith(\"D\") and not columnes[2].startswith(\"P\"): # and columnes[2][7] == \"Z\": #and columnes[1].startswith(\"rodar\"): #and columnes[2][3] == \"P\"\n",
    "            #if len(columnes) >= 3 and columnes[2].startswith(\"F\"):\n",
    "                \n",
    "                arxiu_sortida.write(f\"{columnes[0]}, {columnes[2]}\\n\")   #Si no s'omet la fila de dalt, s'ha de treure un tab\n",
    "                #arxiu_sortida.write(f\"{columnes[2]}\\n\")   #Si no s'omet la fila de dalt, s'ha de treure un tab\n",
    "                num += 1\n",
    "\n",
    "    print(\"Fet!\")\n",
    "    print(f\"Nombre d'impressions: {num}\")\n",
    "\n",
    "# Exemple d'ús\n",
    "entrada = '../noudiccionari2.2.txt'\n",
    "sortida = 'resultats.txt'\n",
    "filtra_arxiu(entrada, sortida)\n"
   ]
  },
  {
   "cell_type": "code",
   "execution_count": 17,
   "id": "76e39cfa",
   "metadata": {},
   "outputs": [
    {
     "name": "stdout",
     "output_type": "stream",
     "text": [
      "Fet!\n",
      "Canvis fets: 4793\n"
     ]
    }
   ],
   "source": [
    "def replace_column_value(input_file_path, output_file_path):\n",
    "    numero = 0\n",
    "\n",
    "    try:\n",
    "        with open(input_file_path, 'r') as file:\n",
    "            lines = file.readlines()\n",
    "    except IOError:\n",
    "        print(f\"Error: Could not read file {input_file_path}\")\n",
    "        return\n",
    "\n",
    "    new_lines = []\n",
    "    for line in lines:\n",
    "        columnes = line.strip().split('$')\n",
    "        \n",
    "        if len(columnes) > 2 and (columnes[2][0] == \"R\" or columnes[2][0] == \"C\" or columnes[2][0] == \"I\" or columnes[2][0] == \"S\"  or columnes[2][0] == \"F\"):\n",
    "            columnes[2] = \"Z\" + columnes[2]\n",
    "            numero += 1\n",
    "                    \n",
    "        new_lines.append('$'.join(columnes) + '\\n')\n",
    "    \n",
    "    try:\n",
    "        with open(output_file_path, 'w') as file:\n",
    "            file.writelines(new_lines)\n",
    "    except IOError:\n",
    "        print(f\"Error: Could not write to file {output_file_path}\")\n",
    "        return\n",
    "    \n",
    "    print(\"Fet!\")\n",
    "    print(f\"Canvis fets: {numero}\")\n",
    "\n",
    "\n",
    "# Exemple d'ús\n",
    "entrada = '../noudiccionari2.2.txt'\n",
    "sortida = '../noudiccionari2.3.txt'\n",
    "\n",
    "replace_column_value(entrada, sortida)"
   ]
  },
  {
   "cell_type": "code",
   "execution_count": null,
   "id": "8341c38c",
   "metadata": {},
   "outputs": [
    {
     "name": "stdout",
     "output_type": "stream",
     "text": [
      "Lletres a la posició 0, ordenades per nombre d'aparicions descendentment:\n",
      "   R: 4578 vegades\n",
      "   I: 133 vegades\n",
      "   S: 56 vegades\n",
      "   C: 24 vegades\n",
      "   F: 2 vegades\n"
     ]
    }
   ],
   "source": [
    "def lletres_a_posicio(arxiu, posicio, columnes):\n",
    "    lletres_comptades = {}\n",
    "\n",
    "    with open(arxiu, 'r') as f:\n",
    "        for linia in f:\n",
    "            linia = linia.strip().split(',')\n",
    "            if len(linia) >= columnes:\n",
    "                columna = linia[columnes - 1]\n",
    "                if len(columna) > posicio +1:\n",
    "                    lletra = columna[posicio +1]\n",
    "                    lletres_comptades[lletra] = lletres_comptades.get(lletra, 0) + 1\n",
    "\n",
    "    if lletres_comptades:\n",
    "        print(f\"Lletres a la posició {posicio}, ordenades per nombre d'aparicions descendentment:\")\n",
    "        for lletra, comptador in sorted(lletres_comptades.items(), key=lambda x: x[1], reverse=True):\n",
    "            print(f\"   {lletra}: {comptador} vegades\")\n",
    "    else:\n",
    "        print(f\"No hi ha lletres a la posició {posicio} en cap de les línies.\")\n",
    "\n",
    "\n",
    "# Exemple d'ús:\n",
    "nom_arxiu = 'resultats.txt'\n",
    "posicio_verificar = 0\n",
    "nombre_columnes = 2\n",
    "\n",
    "lletres_a_posicio(nom_arxiu, posicio_verificar, nombre_columnes)\n"
   ]
  },
  {
   "cell_type": "code",
   "execution_count": null,
   "id": "d27b975a",
   "metadata": {},
   "outputs": [],
   "source": [
    "#Comprova si hi ha determinades lletres en una posició del codi (requereix tenir un arxiu de text amb només el codi, es pot fer canviant la línia de l'arxiu de sortida del codi de dalt)\n",
    "\n",
    "\n",
    "def comprova_lletres(arxiu, posicio, lletres_permeses):\n",
    "    with open(arxiu, 'r') as f:\n",
    "        for linia in f:\n",
    "            linia = linia.strip()  # Elimina els caràcters de nova línia o espais al principi i al final\n",
    "            if len(linia) > posicio and linia[posicio] not in lletres_permeses:\n",
    "                return False\n",
    "    return True\n",
    "\n",
    "# Exemple d'ús:\n",
    "nom_arxiu = 'resultats.txt'\n",
    "posicio_verificar = 7  # Canvia a la posició que desitgis\n",
    "lletres_permeses = ['A', 'M', 'S']  # Canvia a les lletres que desitgis permetre\n",
    "\n",
    "resultat = comprova_lletres(nom_arxiu, posicio_verificar, lletres_permeses)\n",
    "\n",
    "if resultat:\n",
    "    print(f\"Totes les lletres a la posició {posicio_verificar} són les que permets.\")\n",
    "else:\n",
    "    print(f\"Hi ha almenys una línia amb una lletra no permesa a la posició {posicio_verificar}.\")\n"
   ]
  },
  {
   "cell_type": "code",
   "execution_count": null,
   "id": "e3908fd4-7b44-4a98-bfb4-923d362d15ae",
   "metadata": {
    "tags": []
   },
   "outputs": [
    {
     "ename": "IndexError",
     "evalue": "list index out of range",
     "output_type": "error",
     "traceback": [
      "\u001b[0;31m---------------------------------------------------------------------------\u001b[0m",
      "\u001b[0;31mIndexError\u001b[0m                                Traceback (most recent call last)",
      "Cell \u001b[0;32mIn[22], line 21\u001b[0m\n\u001b[1;32m     19\u001b[0m nom_fitxer \u001b[38;5;241m=\u001b[39m \u001b[38;5;124m'\u001b[39m\u001b[38;5;124m../diccionari_original.txt\u001b[39m\u001b[38;5;124m'\u001b[39m\n\u001b[1;32m     20\u001b[0m  \u001b[38;5;66;03m# Canvia-ho amb la ruta del teu fitxer\u001b[39;00m\n\u001b[0;32m---> 21\u001b[0m resultat \u001b[38;5;241m=\u001b[39m \u001b[43mcontar_elements_unics\u001b[49m\u001b[43m(\u001b[49m\u001b[43mnom_fitxer\u001b[49m\u001b[43m)\u001b[49m\n\u001b[1;32m     22\u001b[0m \u001b[38;5;28mprint\u001b[39m(\u001b[38;5;124mf\u001b[39m\u001b[38;5;124m\"\u001b[39m\u001b[38;5;124mHi ha \u001b[39m\u001b[38;5;132;01m{\u001b[39;00mresultat\u001b[38;5;132;01m}\u001b[39;00m\u001b[38;5;124m elements únics a la segona columna del fitxer.\u001b[39m\u001b[38;5;124m\"\u001b[39m)\n",
      "Cell \u001b[0;32mIn[22], line 9\u001b[0m, in \u001b[0;36mcontar_elements_unics\u001b[0;34m(nom_arxiu)\u001b[0m\n\u001b[1;32m      6\u001b[0m \u001b[38;5;28;01mfor\u001b[39;00m linia \u001b[38;5;129;01min\u001b[39;00m arxiu:\n\u001b[1;32m      7\u001b[0m     \u001b[38;5;66;03m# Dividir la línia per comes i agafar la segona columna (índex 1)\u001b[39;00m\n\u001b[1;32m      8\u001b[0m     columnes \u001b[38;5;241m=\u001b[39m linia\u001b[38;5;241m.\u001b[39mstrip()\u001b[38;5;241m.\u001b[39msplit(\u001b[38;5;124m'\u001b[39m\u001b[38;5;124m \u001b[39m\u001b[38;5;124m'\u001b[39m)\n\u001b[0;32m----> 9\u001b[0m     segona_columna \u001b[38;5;241m=\u001b[39m \u001b[43mcolumnes\u001b[49m\u001b[43m[\u001b[49m\u001b[38;5;241;43m1\u001b[39;49m\u001b[43m]\u001b[49m\u001b[38;5;241m.\u001b[39mstrip()\n\u001b[1;32m     10\u001b[0m     tercerca_columna \u001b[38;5;241m=\u001b[39m columnes[\u001b[38;5;241m2\u001b[39m]\u001b[38;5;241m.\u001b[39mstrip()\n\u001b[1;32m     12\u001b[0m     \u001b[38;5;66;03m# Afegir l'element a conjunt\u001b[39;00m\n",
      "\u001b[0;31mIndexError\u001b[0m: list index out of range"
     ]
    }
   ],
   "source": [
    "def contar_elements_unics(nom_arxiu):\n",
    "    # Crear un conjunt per emmagatzemar els elements únics\n",
    "    elements_unics = set()\n",
    "\n",
    "    with open(nom_arxiu, 'r') as arxiu:\n",
    "        for linia in arxiu:\n",
    "            # Dividir la línia per comes i agafar la segona columna (índex 1)\n",
    "            columnes = linia.strip().split(' ')\n",
    "            segona_columna = columnes[1].strip()\n",
    "            tercerca_columna = columnes[2].strip()\n",
    "\n",
    "            # Afegir l'element a conjunt\n",
    "            elements_unics.add(segona_columna)\n",
    "\n",
    "    # Retornar la quantitat d'elements únics\n",
    "    return len(elements_unics)\n",
    "\n",
    "# Exemple d'ús\n",
    "nom_fitxer = '../diccionari_original.txt'\n",
    " # Canvia-ho amb la ruta del teu fitxer\n",
    "resultat = contar_elements_unics(nom_fitxer)\n",
    "print(f\"Hi ha {resultat} elements únics a la segona columna del fitxer.\")\n"
   ]
  },
  {
   "cell_type": "code",
   "execution_count": null,
   "id": "929d4b96-922e-4e97-8c17-f1d9588a26c3",
   "metadata": {
    "tags": []
   },
   "outputs": [
    {
     "name": "stdout",
     "output_type": "stream",
     "text": [
      "L'arxiu 'diccionaricatalacomplert (1).txt' té 1191974 línies.\n"
     ]
    }
   ],
   "source": [
    "def comptar_linies(nom_arxiu):\n",
    "    try:\n",
    "        with open(nom_arxiu, 'r') as arxiu:\n",
    "            linies = arxiu.readlines()\n",
    "            num_linies = len(linies)\n",
    "            print(f\"L'arxiu '{nom_arxiu}' té {num_linies} línies.\")\n",
    "    except FileNotFoundError:\n",
    "        print(f\"No s'ha trobat l'arxiu '{nom_arxiu}'.\")\n",
    "    except Exception as e:\n",
    "        print(f\"S'ha produït un error: {e}\")\n",
    "\n",
    "# Exemple d'ús\n",
    "nom_arxiu = 'diccionaricatalacomplert (1).txt'  # Canvia-ho pel nom de l'arxiu que vols comptar\n",
    "comptar_linies(nom_arxiu)\n"
   ]
  }
 ],
 "metadata": {
  "kernelspec": {
   "display_name": "Python 3 (ipykernel)",
   "language": "python",
   "name": "python3"
  },
  "language_info": {
   "codemirror_mode": {
    "name": "ipython",
    "version": 3
   },
   "file_extension": ".py",
   "mimetype": "text/x-python",
   "name": "python",
   "nbconvert_exporter": "python",
   "pygments_lexer": "ipython3",
   "version": "3.11.5"
  }
 },
 "nbformat": 4,
 "nbformat_minor": 5
}
