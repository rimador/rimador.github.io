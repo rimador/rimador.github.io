{
 "cells": [
  {
   "cell_type": "code",
   "execution_count": 6,
   "metadata": {},
   "outputs": [
    {
     "name": "stderr",
     "output_type": "stream",
     "text": [
      "Comparant llistes: 100%|██████████| 872010/872010 [00:00<00:00, 1634284.61 elements/s]\n"
     ]
    },
    {
     "name": "stdout",
     "output_type": "stream",
     "text": [
      "Fet!\n"
     ]
    }
   ],
   "source": [
    "from tqdm import tqdm\n",
    "\n",
    "# Funció per llegir el fitxer amb format especial i separar els elements\n",
    "def llegir_fitxer_doble_element(nom_fitxer):\n",
    "    llista_a = []\n",
    "    llista_b = []\n",
    "    altres_elements = []\n",
    "    with open(nom_fitxer, 'r') as fitxer:\n",
    "        for linia in fitxer:\n",
    "            parts = linia.strip().split('$')\n",
    "            if len(parts) >= 2:\n",
    "                llista_a.append(parts[0])\n",
    "                llista_b.append(parts[1])\n",
    "                altres_elements.append(parts)\n",
    "            else:\n",
    "                llista_a.append(parts[0])\n",
    "                llista_b.append('')\n",
    "                altres_elements.append(parts)\n",
    "    return llista_a, llista_b, altres_elements\n",
    "\n",
    "# Funció per llegir el fitxer de tabulador\n",
    "def llegir_fitxer_tabulador(nom_fitxer):\n",
    "    with open(nom_fitxer, 'r') as fitxer:\n",
    "        linies = [linia.strip().split('\\t')[1] if '\\t' in linia else '' for linia in fitxer]\n",
    "    return linies\n",
    "\n",
    "# Funció per comprovar elements i generar els fitxers de sortida\n",
    "def comprovar_elements(llista_a, llista_b, altres_elements, llista_tabulador, fitxer_sortida1, fitxer_sortida2):\n",
    "    elements_no_presentats = []\n",
    "    paraules_i_index = []\n",
    "\n",
    "    # Convertim llista_tabulador en un conjunt per a una cerca més eficient\n",
    "    set_llista_tabulador = set(llista_tabulador)\n",
    "\n",
    "    # Inicialitzem la barra de progrés amb el total de la llista_a\n",
    "    progress_bar = tqdm(total=len(llista_a), desc=\"Comparant llistes\", unit=\" elements\")\n",
    "\n",
    "    for index, element in enumerate(llista_a):\n",
    "        if element not in set_llista_tabulador:\n",
    "            elements_no_presentats.append(index)\n",
    "        progress_bar.update(1)\n",
    "\n",
    "    progress_bar.close()\n",
    "\n",
    "    # Creem una llista de tuples (paraula, índex) per a les paraules no presents\n",
    "    paraules_i_index = [(llista_a[idx], idx) for idx in elements_no_presentats]\n",
    "\n",
    "    with open(fitxer_sortida1, 'w') as f1:\n",
    "        if paraules_i_index:\n",
    "            for paraula, idx in paraules_i_index:\n",
    "                paraula_corresponent = llista_b[idx] if idx < len(llista_b) else ''\n",
    "                f1.write(f\"{paraula}${paraula_corresponent}\\n\")\n",
    "        else:\n",
    "            f1.write(\"Tots els elements de la llista A estan presents a la llista B.\\n\")\n",
    "\n",
    "    with open(fitxer_sortida2, 'w') as f2:\n",
    "        for index, elements in enumerate(altres_elements):\n",
    "            afegit = \"$Vicc\" if llista_a[index] in set_llista_tabulador else \"$NO\"\n",
    "            f2.write('$'.join(elements) + afegit + '\\n')\n",
    "    print(\"Fet!\")\n",
    "\n",
    "# Fitxers d'entrada i sortida\n",
    "fitxer1 = '../../noudiccionari2.2.txt'  # Fitxer amb format especial\n",
    "fitxer2 = 'cawiktionary-20240601-all-titles'  # Fitxer on cada línia té el format \"0\\tParaula\"\n",
    "fitxer_sortida1 = '*prova*paraules_NO_presents_al_viccionari.txt'  # Fitxer amb paraules no presents\n",
    "fitxer_sortida2 = 'diccionari_original+viccionari.txt'  # Fitxer amb resultats afegits\n",
    "\n",
    "# Llegim els fitxers d'entrada\n",
    "llista_a, llista_b, altres_elements = llegir_fitxer_doble_element(fitxer1)\n",
    "llista_tabulador = llegir_fitxer_tabulador(fitxer2)\n",
    "\n",
    "# Comprovem els elements i generem els fitxers de sortida\n",
    "comprovar_elements(llista_a, llista_b, altres_elements, llista_tabulador, fitxer_sortida1, fitxer_sortida2)"
   ]
  }
 ],
 "metadata": {
  "kernelspec": {
   "display_name": "Python 3",
   "language": "python",
   "name": "python3"
  },
  "language_info": {
   "codemirror_mode": {
    "name": "ipython",
    "version": 3
   },
   "file_extension": ".py",
   "mimetype": "text/x-python",
   "name": "python",
   "nbconvert_exporter": "python",
   "pygments_lexer": "ipython3",
   "version": "3.11.5"
  }
 },
 "nbformat": 4,
 "nbformat_minor": 2
}
