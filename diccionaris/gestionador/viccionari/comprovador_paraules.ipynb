{
 "cells": [
  {
   "cell_type": "code",
   "execution_count": null,
   "metadata": {},
   "outputs": [],
   "source": [
    "import requests\n",
    "\n",
    "def llegir_fitxer(input_file):\n",
    "    with open(input_file, 'r', encoding='utf-8') as f:\n",
    "        paraules = f.read().splitlines()\n",
    "    return paraules\n",
    "\n",
    "def comprovar_pagina_wiktionary(paraula):\n",
    "    url = f'https://ca.wiktionary.org/wiki/{paraula}'\n",
    "    response = requests.get(url)\n",
    "    if \"Actualment no hi ha text en aquesta pàgina\" in response.text:\n",
    "        return False\n",
    "    return True\n",
    "\n",
    "def escriure_resultats(output_file, resultats):\n",
    "    with open(output_file, 'w', encoding='utf-8') as f:\n",
    "        for paraula, existeix in resultats:\n",
    "            f.write(f'{paraula}, {\"Existent\" if existeix else \"Inexistent\"}\\n')\n",
    "\n",
    "def main():\n",
    "    input_file = '../separat/col_0.txt'  # Canvia aquest nom si cal\n",
    "    output_file = 'comprovacio_existencia.txt'  # Canvia aquest nom si cal\n",
    "    \n",
    "    paraules = llegir_fitxer(input_file)\n",
    "    resultats = []\n",
    "    \n",
    "    # Itera només sobre les línies especificades o sobre totes si num_lines és més gran que la longitud de la llista\n",
    "    for i, paraula in enumerate(paraules):\n",
    "        existeix = comprovar_pagina_wiktionary(paraula)\n",
    "        linia_actual = i + 1\n",
    "        print(f'(Línia {linia_actual}, {paraula}): {\"Existent\" if existeix else \"Inexistent\"}')\n",
    "        resultats.append((paraula, existeix))\n",
    "    \n",
    "    escriure_resultats(output_file, resultats)\n",
    "\n",
    "if __name__ == \"__main__\":\n",
    "    main()\n"
   ]
  },
  {
   "cell_type": "code",
   "execution_count": null,
   "metadata": {},
   "outputs": [],
   "source": [
    "pip install tqdm"
   ]
  },
  {
   "cell_type": "code",
   "execution_count": 44,
   "metadata": {},
   "outputs": [
    {
     "name": "stderr",
     "output_type": "stream",
     "text": [
      "Comparant llistes: 100%|██████████| 10000/10000 [01:37<00:00, 102.27element/s]\n"
     ]
    }
   ],
   "source": [
    "from tqdm import tqdm\n",
    "\n",
    "def comprovar_elements(llista_a, llista_b, fitxer_sortida):\n",
    "    elements_no_presentats = []\n",
    "\n",
    "    # Inicialitzem la barra de progrés amb el total de la llista_a\n",
    "    progress_bar = tqdm(total=len(llista_a), desc=\"Comparant llistes\", unit=\"element\")\n",
    "\n",
    "    for element in llista_a:\n",
    "        if element not in llista_b:\n",
    "            elements_no_presentats.append(element)\n",
    "        progress_bar.update(1)\n",
    "\n",
    "    progress_bar.close()\n",
    "\n",
    "    if elements_no_presentats:\n",
    "        with open(fitxer_sortida, 'w') as f:\n",
    "            for element in elements_no_presentats:\n",
    "                f.write(f\"{element}\\n\")\n",
    "                        \n",
    "    else:\n",
    "        with open(fitxer_sortida, 'w') as f:\n",
    "            print(\"Tots els elements de la llista A estan presents a la llista B.\")\n",
    "            \n",
    "def llegir_fitxer_linia_per_linia(nom_fitxer):\n",
    "    with open(nom_fitxer, 'r') as fitxer:\n",
    "        linies = [linia.strip() for linia in fitxer.readlines()]\n",
    "    return linies\n",
    "\n",
    "def llegir_fitxer_tabulador(nom_fitxer):\n",
    "    with open(nom_fitxer, 'r') as fitxer:\n",
    "        linies = [linia.strip().split('\\t')[1] if '\\t' in linia else '' for linia in fitxer.readlines()]\n",
    "    return linies\n",
    "\n",
    "fitxer1 = '../../separat/col_0.txt'  # Fitxer on cada línia conté una paraula\n",
    "fitxer2 = 'cawiktionary-20240601-all-titles.txt'  # Fitxer on cada línia té el format \"0\\tParaula\"\n",
    "fitxer_sortida = 'paraules_NO_presents_al_viccionari.txt'  # Fitxer on s'escriuran els resultats\n",
    "\n",
    "llista_a = llegir_fitxer_linia_per_linia(fitxer1)\n",
    "llista_b = llegir_fitxer_tabulador(fitxer2)\n",
    "\n",
    "comprovar_elements(llista_a, llista_b, fitxer_sortida)\n"
   ]
  }
 ],
 "metadata": {
  "kernelspec": {
   "display_name": "Python 3",
   "language": "python",
   "name": "python3"
  },
  "language_info": {
   "codemirror_mode": {
    "name": "ipython",
    "version": 3
   },
   "file_extension": ".py",
   "mimetype": "text/x-python",
   "name": "python",
   "nbconvert_exporter": "python",
   "pygments_lexer": "ipython3",
   "version": "3.11.5"
  }
 },
 "nbformat": 4,
 "nbformat_minor": 2
}
