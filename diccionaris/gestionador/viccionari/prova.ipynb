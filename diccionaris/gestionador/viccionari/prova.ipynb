{
 "cells": [
  {
   "cell_type": "code",
   "execution_count": 1,
   "metadata": {},
   "outputs": [
    {
     "name": "stderr",
     "output_type": "stream",
     "text": [
      "Comparant llistes: 100%|██████████| 1191928/1191928 [00:01<00:00, 1119757.22 elements/s]\n"
     ]
    }
   ],
   "source": [
    "def llegir_fitxer_doble_element(nom_fitxer):\n",
    "    llista_a = []\n",
    "    llista_b = []\n",
    "    altres_elements = []\n",
    "    with open(nom_fitxer, 'r') as fitxer:\n",
    "        for linia in fitxer:\n",
    "            parts = linia.strip().split('$')\n",
    "            if len(parts) >= 2:\n",
    "                llista_a.append(parts[0])\n",
    "                llista_b.append(parts[1])\n",
    "                altres_elements.append(parts)\n",
    "            else:\n",
    "                llista_a.append(parts[0])\n",
    "                llista_b.append('')\n",
    "                altres_elements.append(parts)\n",
    "    return llista_a, llista_b, altres_elements\n",
    "\n",
    "from tqdm import tqdm\n",
    "\n",
    "def comprovar_elements(llista_a, llista_b, altres_elements, fitxer_sortida1, fitxer_sortida2):\n",
    "    elements_no_presentats = []\n",
    "    paraules_i_index = []\n",
    "\n",
    "    # Convertim llista_b en un conjunt per a una cerca més eficient\n",
    "    set_llista_b = set(llista_b)\n",
    "\n",
    "    # Inicialitzem la barra de progrés amb el total de la llista_a\n",
    "    progress_bar = tqdm(total=len(llista_a), desc=\"Comparant llistes\", unit=\" elements\")\n",
    "\n",
    "    for index, element in enumerate(llista_a):\n",
    "        if element not in set_llista_b:\n",
    "            elements_no_presentats.append(index)\n",
    "        progress_bar.update(1)\n",
    "\n",
    "    progress_bar.close()\n",
    "\n",
    "    # Creem una llista de tuples (paraula, índex) per a les paraules no presents\n",
    "    paraules_i_index = [(llista_a[idx], idx) for idx in elements_no_presentats]\n",
    "\n",
    "    with open(fitxer_sortida1, 'w') as f1:\n",
    "        if paraules_i_index:\n",
    "            for paraula, idx in paraules_i_index:\n",
    "                paraula_corresponent = llista_b[idx] if idx < len(llista_b) else ''\n",
    "                f1.write(f\"{paraula}${paraula_corresponent}\\n\")\n",
    "        else:\n",
    "            f1.write(\"Tots els elements de la llista A estan presents a la llista B.\\n\")\n",
    "\n",
    "    with open(fitxer_sortida2, 'w') as f2:\n",
    "        for index, elements in enumerate(altres_elements):\n",
    "            afegit = \"$Vicc\" if llista_a[index] in set_llista_b else \"$NO\"\n",
    "            f2.write('$'.join(elements) + afegit + '\\n')\n",
    "\n",
    "fitxer1 = '../../diccionari_original.txt'  # Fitxer amb format especial\n",
    "fitxer_sortida1 = '*prova*paraules_NO_presents_al_viccionari.txt'  # Fitxer amb paraules no presents\n",
    "fitxer_sortida2 = 'diccionari_amb_resultats.txt'  # Fitxer amb resultats afegits\n",
    "\n",
    "llista_a, llista_b, altres_elements = llegir_fitxer_doble_element(fitxer1)\n",
    "\n",
    "comprovar_elements(llista_a, llista_b, altres_elements, fitxer_sortida1, fitxer_sortida2)\n"
   ]
  }
 ],
 "metadata": {
  "kernelspec": {
   "display_name": "Python 3",
   "language": "python",
   "name": "python3"
  },
  "language_info": {
   "codemirror_mode": {
    "name": "ipython",
    "version": 3
   },
   "file_extension": ".py",
   "mimetype": "text/x-python",
   "name": "python",
   "nbconvert_exporter": "python",
   "pygments_lexer": "ipython3",
   "version": "3.11.5"
  }
 },
 "nbformat": 4,
 "nbformat_minor": 2
}
