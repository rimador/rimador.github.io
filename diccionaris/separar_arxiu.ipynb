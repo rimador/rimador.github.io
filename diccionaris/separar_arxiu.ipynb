{
 "cells": [
  {
   "cell_type": "code",
   "execution_count": null,
   "metadata": {},
   "outputs": [
    {
     "name": "stdout",
     "output_type": "stream",
     "text": [
      "El fitxer 'diccionari.5.1.3.txt' no s'ha trobat.\n"
     ]
    },
    {
     "ename": "NameError",
     "evalue": "name 'linies' is not defined",
     "output_type": "error",
     "traceback": [
      "\u001b[0;31m---------------------------------------------------------------------------\u001b[0m",
      "\u001b[0;31mNameError\u001b[0m                                 Traceback (most recent call last)",
      "Cell \u001b[0;32mIn[1], line 17\u001b[0m\n\u001b[1;32m     14\u001b[0m     exit()\n\u001b[1;32m     16\u001b[0m \u001b[38;5;66;03m# Separar per columnes\u001b[39;00m\n\u001b[0;32m---> 17\u001b[0m columnes \u001b[38;5;241m=\u001b[39m [linia\u001b[38;5;241m.\u001b[39mstrip()\u001b[38;5;241m.\u001b[39msplit(\u001b[38;5;124m\"\u001b[39m\u001b[38;5;124m$\u001b[39m\u001b[38;5;124m\"\u001b[39m) \u001b[38;5;28;01mfor\u001b[39;00m linia \u001b[38;5;129;01min\u001b[39;00m \u001b[43mlinies\u001b[49m]\n\u001b[1;32m     18\u001b[0m max_columnes \u001b[38;5;241m=\u001b[39m \u001b[38;5;28mmax\u001b[39m(\u001b[38;5;28mlen\u001b[39m(col) \u001b[38;5;28;01mfor\u001b[39;00m col \u001b[38;5;129;01min\u001b[39;00m columnes)\n\u001b[1;32m     19\u001b[0m columnes \u001b[38;5;241m=\u001b[39m [col \u001b[38;5;241m+\u001b[39m [\u001b[38;5;124m\"\u001b[39m\u001b[38;5;124m\"\u001b[39m] \u001b[38;5;241m*\u001b[39m (max_columnes \u001b[38;5;241m-\u001b[39m \u001b[38;5;28mlen\u001b[39m(col)) \u001b[38;5;28;01mfor\u001b[39;00m col \u001b[38;5;129;01min\u001b[39;00m columnes]\n",
      "\u001b[0;31mNameError\u001b[0m: name 'linies' is not defined"
     ]
    },
    {
     "ename": "",
     "evalue": "",
     "output_type": "error",
     "traceback": [
      "\u001b[1;31mEl kernel se bloqueó al ejecutar código en la celda actual o en una celda anterior. \n",
      "\u001b[1;31mRevise el código de las celdas para identificar una posible causa del error. \n",
      "\u001b[1;31mHaga clic <a href='https://aka.ms/vscodeJupyterKernelCrash'>aquí</a> para obtener más información. \n",
      "\u001b[1;31mVea Jupyter <a href='command:jupyter.viewOutput'>log</a> para obtener más detalles."
     ]
    }
   ],
   "source": [
    "import os\n",
    "\n",
    "# Configuració de rutes\n",
    "nom_document = \"diccionari.5.1.3.txt\"\n",
    "directori_destinacio = os.path.join(\"..\", \"diccionaris\", \"separat\")\n",
    "os.makedirs(directori_destinacio, exist_ok=True)\n",
    "\n",
    "# Llegir línies del fitxer\n",
    "try:\n",
    "    with open(nom_document, \"r\", encoding=\"utf-8\") as file:\n",
    "        linies = file.readlines()\n",
    "except FileNotFoundError:\n",
    "    print(f\"El fitxer '{nom_document}' no s'ha trobat.\")\n",
    "    exit()\n",
    "\n",
    "# Separar per columnes\n",
    "columnes = [linia.strip().split(\"$\") for linia in linies]\n",
    "max_columnes = max(len(col) for col in columnes)\n",
    "columnes = [col + [\"\"] * (max_columnes - len(col)) for col in columnes]\n",
    "\n",
    "# Transposar per a tenir columnes com a files\n",
    "columnes_transposades = zip(*columnes)\n",
    "\n",
    "# Escriure cada columna en un fitxer diferent\n",
    "for i, columna in enumerate(columnes_transposades):\n",
    "    if i == 10:  # Aquest és el número de columna que vols canviar\n",
    "        nou_nom_fitxer = \"col_10 (canvis aquí).txt\"  # Canvia el nom aquí\n",
    "    else:\n",
    "        nou_nom_fitxer = f\"col_{i}.txt\"\n",
    "\n",
    "    nom_fitxer = os.path.join(directori_destinacio, nou_nom_fitxer)\n",
    "    with open(nom_fitxer, \"w\", encoding=\"utf-8\") as sortida:\n",
    "        sortida.write(\"\\n\".join(columna))\n",
    "\n",
    "    # Comptar línies escrites\n",
    "    nombre_linees = len(columna)\n",
    "    print(f\"Generat: {nou_nom_fitxer} amb {nombre_linees} línies\")\n",
    "\n",
    "print(f\"Funció acabada! {max_columnes} fitxers generats al directori: {directori_destinacio}\")\n"
   ]
  }
 ],
 "metadata": {
  "kernelspec": {
   "display_name": "Python 3",
   "language": "python",
   "name": "python3"
  },
  "language_info": {
   "codemirror_mode": {
    "name": "ipython",
    "version": 3
   },
   "file_extension": ".py",
   "mimetype": "text/x-python",
   "name": "python",
   "nbconvert_exporter": "python",
   "pygments_lexer": "ipython3",
   "version": "3.11.5"
  }
 },
 "nbformat": 4,
 "nbformat_minor": 2
}
