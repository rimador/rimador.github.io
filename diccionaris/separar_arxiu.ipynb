{
 "cells": [
  {
   "cell_type": "code",
   "execution_count": null,
   "metadata": {},
   "outputs": [
    {
     "name": "stdout",
     "output_type": "stream",
     "text": [
      "Nombre de fitxers generats: 11\n",
      "El nombre de línies de ../diccionaris/separat/col_0.txt és: 619847\n",
      "El nombre de línies de ../diccionaris/separat/col_0.txt és: 619847\n",
      "El nombre de línies de ../diccionaris/separat/col_1.txt és: 619847\n",
      "El nombre de línies de ../diccionaris/separat/col_1.txt és: 619847\n",
      "El nombre de línies de ../diccionaris/separat/col_2.txt és: 619847\n",
      "El nombre de línies de ../diccionaris/separat/col_2.txt és: 619847\n",
      "El nombre de línies de ../diccionaris/separat/col_3.txt és: 619847\n",
      "El nombre de línies de ../diccionaris/separat/col_3.txt és: 619847\n",
      "El nombre de línies de ../diccionaris/separat/col_4.txt és: 619847\n",
      "El nombre de línies de ../diccionaris/separat/col_5.txt és: 619847\n",
      "El nombre de línies de ../diccionaris/separat/col_4.txt és: 619847\n",
      "El nombre de línies de ../diccionaris/separat/col_5.txt és: 619847\n",
      "El nombre de línies de ../diccionaris/separat/col_6.txt és: 619847\n",
      "El nombre de línies de ../diccionaris/separat/col_6.txt és: 619847\n",
      "El nombre de línies de ../diccionaris/separat/col_7.txt és: 619847\n",
      "El nombre de línies de ../diccionaris/separat/col_8.txt és: 619847\n",
      "El nombre de línies de ../diccionaris/separat/col_7.txt és: 619847\n",
      "El nombre de línies de ../diccionaris/separat/col_8.txt és: 619847\n",
      "El nombre de línies de ../diccionaris/separat/col_9.txt és: 619847\n",
      "El nombre de línies de ../diccionaris/separat/col_9.txt és: 619847\n",
      "El nombre de línies de ../diccionaris/separat/col_10.txt és: 619847\n",
      "Funció acabada!\n",
      "El nombre de línies de ../diccionaris/separat/col_10.txt és: 619847\n",
      "Funció acabada!\n"
     ]
    }
   ],
   "source": [
    "import os\n",
    "\n",
    "document = \"diccionari.5.1.3.txt\"\n",
    "directori_destinacio = \"separat/\"\n",
    "directori_complet = os.path.join(\"..\", \"diccionaris\", directori_destinacio)\n",
    "\n",
    "os.makedirs(directori_complet, exist_ok=True)\n",
    "\n",
    "with open(document, \"r\", encoding=\"utf-8\") as file:\n",
    "    linies = file.readlines()\n",
    "\n",
    "columnes = [linia.strip().split(\"$\") for linia in linies]\n",
    "\n",
    "max_columnes = max(len(col) for col in columnes)\n",
    "columnes = [col + [\"\"] * (max_columnes - len(col)) for col in columnes]\n",
    "\n",
    "columnes_transposed = list(zip(*columnes))\n",
    "\n",
    "def comptar_linees_fitxer(nom_fitxer):\n",
    "    try:\n",
    "        with open(nom_fitxer, 'r', encoding=\"utf-8\") as fitxer:\n",
    "            return sum(1 for _ in fitxer)\n",
    "    except FileNotFoundError:\n",
    "        return \"El fitxer no existeix.\"\n",
    "\n",
    "num_fitxers_generats = len(columnes_transposed)\n",
    "print(f\"Nombre de fitxers generats: {num_fitxers_generats}\")\n",
    "\n",
    "for i, columna in enumerate(columnes_transposed):\n",
    "    nom_fitxer = os.path.join(directori_complet, f\"col_{i}.txt\")\n",
    "    \n",
    "    with open(nom_fitxer, \"w\", encoding=\"utf-8\") as output_file:\n",
    "        output_file.write(\"\\n\".join(columna))\n",
    "\n",
    "    nombre_linees = comptar_linees_fitxer(nom_fitxer)\n",
    "    print(f\"El nombre de línies de {nom_fitxer} és: {nombre_linees}\")\n",
    "\n",
    "print(\"Funció acabada!\")"
   ]
  }
 ],
 "metadata": {
  "kernelspec": {
   "display_name": "Python 3",
   "language": "python",
   "name": "python3"
  },
  "language_info": {
   "codemirror_mode": {
    "name": "ipython",
    "version": 3
   },
   "file_extension": ".py",
   "mimetype": "text/x-python",
   "name": "python",
   "nbconvert_exporter": "python",
   "pygments_lexer": "ipython3",
   "version": "3.11.5"
  }
 },
 "nbformat": 4,
 "nbformat_minor": 2
}
