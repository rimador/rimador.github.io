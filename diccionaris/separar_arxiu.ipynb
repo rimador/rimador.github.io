{
 "cells": [
  {
   "cell_type": "code",
   "execution_count": 1,
   "metadata": {},
   "outputs": [
    {
     "name": "stdout",
     "output_type": "stream",
     "text": [
      "Generat: col_0.txt amb 619846 línies\n",
      "Generat: col_1.txt amb 619846 línies\n",
      "Generat: col_2.txt amb 619846 línies\n",
      "Generat: col_3.txt amb 619846 línies\n",
      "Generat: col_4.txt amb 619846 línies\n",
      "Generat: col_5.txt amb 619846 línies\n",
      "Generat: col_6.txt amb 619846 línies\n",
      "Generat: col_7.txt amb 619846 línies\n",
      "Generat: col_8.txt amb 619846 línies\n",
      "Generat: col_9.txt amb 619846 línies\n",
      "Generat: col_10 (canvis aquí).txt amb 619846 línies\n",
      "Funció acabada! 11 fitxers generats al directori: ../diccionaris/separat\n"
     ]
    }
   ],
   "source": [
    "import os\n",
    "\n",
    "# Configuració de rutes\n",
    "nom_document = \"diccionari.5.1.3.txt\"\n",
    "directori_destinacio = os.path.join(\"..\", \"diccionaris\", \"separat\")\n",
    "os.makedirs(directori_destinacio, exist_ok=True)\n",
    "\n",
    "# Llegir línies del fitxer\n",
    "try:\n",
    "    with open(nom_document, \"r\", encoding=\"utf-8\") as file:\n",
    "        linies = file.readlines()\n",
    "except FileNotFoundError:\n",
    "    print(f\"El fitxer '{nom_document}' no s'ha trobat.\")\n",
    "    exit()\n",
    "\n",
    "# Separar per columnes\n",
    "columnes = [linia.strip().split(\"$\") for linia in linies]\n",
    "max_columnes = max(len(col) for col in columnes)\n",
    "columnes = [col + [\"\"] * (max_columnes - len(col)) for col in columnes]\n",
    "\n",
    "# Transposar per a tenir columnes com a files\n",
    "columnes_transposades = zip(*columnes)\n",
    "\n",
    "# Escriure cada columna en un fitxer diferent\n",
    "for i, columna in enumerate(columnes_transposades):\n",
    "    if i == 10:  # Aquest és el número de columna que vols canviar\n",
    "        nou_nom_fitxer = \"col_10 (canvis aquí).txt\"  # Canvia el nom aquí\n",
    "    else:\n",
    "        nou_nom_fitxer = f\"col_{i}.txt\"\n",
    "\n",
    "    nom_fitxer = os.path.join(directori_destinacio, nou_nom_fitxer)\n",
    "    with open(nom_fitxer, \"w\", encoding=\"utf-8\") as sortida:\n",
    "        sortida.write(\"\\n\".join(columna))\n",
    "\n",
    "    # Comptar línies escrites\n",
    "    nombre_linees = len(columna)\n",
    "    print(f\"Generat: {nou_nom_fitxer} amb {nombre_linees} línies\")\n",
    "\n",
    "print(f\"Funció acabada! {max_columnes} fitxers generats al directori: {directori_destinacio}\")\n"
   ]
  }
 ],
 "metadata": {
  "kernelspec": {
   "display_name": "Python 3",
   "language": "python",
   "name": "python3"
  },
  "language_info": {
   "codemirror_mode": {
    "name": "ipython",
    "version": 3
   },
   "file_extension": ".py",
   "mimetype": "text/x-python",
   "name": "python",
   "nbconvert_exporter": "python",
   "pygments_lexer": "ipython3",
   "version": "3.11.5"
  }
 },
 "nbformat": 4,
 "nbformat_minor": 2
}
