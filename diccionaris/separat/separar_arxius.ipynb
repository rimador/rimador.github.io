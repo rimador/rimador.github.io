{
 "cells": [
  {
   "cell_type": "code",
   "execution_count": 1,
   "metadata": {},
   "outputs": [
    {
     "name": "stdout",
     "output_type": "stream",
     "text": [
      "Fet!\n"
     ]
    }
   ],
   "source": [
    "import os\n",
    "\n",
    "directori_destinacio = \".\"\n",
    "\n",
    "if not os.path.exists(directori_destinacio):\n",
    "    os.makedirs(directori_destinacio)\n",
    "\n",
    "with open(\"../noudiccionari2.2.txt\", \"r\") as file:\n",
    "    linies = file.readlines()\n",
    "\n",
    "columnes = [linia.split(\"$\") for linia in linies]\n",
    "\n",
    "max_columnes = max(len(col) for col in columnes)\n",
    "columnes = [col + [\"\"] * (max_columnes - len(col)) for col in columnes]  # Completa les columnes si cal\n",
    "columnes_transposed = list(zip(*columnes)) \n",
    "\n",
    "def noms(i):\n",
    "    if i == 0:\n",
    "        return \"col_0\"\n",
    "    \n",
    "    elif i == 1:\n",
    "        return \"col_1\"\n",
    "    \n",
    "    elif i == 2:\n",
    "        return \"col_2\"\n",
    "\n",
    "    elif i == 3:\n",
    "        return \"col_3\"\n",
    "\n",
    "    elif i == 4:\n",
    "        return \"col_4\"\n",
    "    \n",
    "    elif i == 5:\n",
    "        return \"col_5\"\n",
    "    \n",
    "    elif i == 6:\n",
    "        return \"col_6\"\n",
    "    \n",
    "    elif i == 7:\n",
    "        return \"col_7\"\n",
    "    \n",
    "for i, columna in enumerate(columnes_transposed):\n",
    "    nom_fitxer = f\"{directori_destinacio}/{noms(i)}.txt\"  # Camí complet del fitxer\n",
    "    with open(nom_fitxer, \"w\") as output_file:\n",
    "        if i < 7:\n",
    "            output_file.write(\"\\n\".join(columna))\n",
    "        else:    \n",
    "            output_file.write(\"\".join(columna))\n",
    "\n",
    "print(\"Fet!\")\n"
   ]
  },
  {
   "cell_type": "code",
   "execution_count": 2,
   "metadata": {},
   "outputs": [
    {
     "name": "stdout",
     "output_type": "stream",
     "text": [
      "0\n",
      "7457240\n"
     ]
    }
   ],
   "source": [
    "numero = 0\n",
    "total = 0\n",
    "num_linia = 0\n",
    "\n",
    "with open(\"noudiccionari2.2.txt\", \"r\") as file:\n",
    "    for linia in file:\n",
    "        numero = 0\n",
    "        \n",
    "        for caracter in linia:\n",
    "            if caracter == \"$\":\n",
    "                numero +=1\n",
    "                total +=1\n",
    "                \n",
    "        if not numero== 7:\n",
    "            num_linia += 1\n",
    "            print(linia)\n",
    "\n",
    "print(num_linia)    \n",
    "print(total)"
   ]
  }
 ],
 "metadata": {
  "kernelspec": {
   "display_name": "Python 3",
   "language": "python",
   "name": "python3"
  },
  "language_info": {
   "codemirror_mode": {
    "name": "ipython",
    "version": 3
   },
   "file_extension": ".py",
   "mimetype": "text/x-python",
   "name": "python",
   "nbconvert_exporter": "python",
   "pygments_lexer": "ipython3",
   "version": "3.11.5"
  }
 },
 "nbformat": 4,
 "nbformat_minor": 2
}
