{
 "cells": [
  {
   "cell_type": "code",
   "execution_count": null,
   "metadata": {},
   "outputs": [],
   "source": [
    "def eliminar_paraules_repetides(nom_fitxer_entrada, nom_fitxer_sortida):\n",
    "    # Llegir totes les línies del fitxer d'entrada\n",
    "    with open(nom_fitxer_entrada, 'r') as file:\n",
    "        lines = file.readlines()\n",
    "    \n",
    "    # Eliminar duplicats mantenint l'ordre d'aparició\n",
    "    paraules_uniques = list(dict.fromkeys([line.strip() for line in lines]))\n",
    "    \n",
    "    # Escriure les paraules úniques al fitxer de sortida\n",
    "    with open(nom_fitxer_sortida, 'w') as file:\n",
    "        for paraula in paraules_uniques:\n",
    "            file.write(f\"{paraula}\\n\")\n",
    "\n",
    "# Exemple d'ús:\n",
    "fitxer_entrada = '../diccionaris/separat/col_1.txt'\n",
    "fitxer_sortida = '../diccionaris/separat/col_1_sense_repetir.txt'\n",
    "\n",
    "eliminar_paraules_repetides(fitxer_entrada, fitxer_sortida)\n"
   ]
  },
  {
   "cell_type": "code",
   "execution_count": 1,
   "metadata": {},
   "outputs": [
    {
     "name": "stderr",
     "output_type": "stream",
     "text": [
      "Comparant llistes: 100%|██████████| 127508/127508 [8:09:24<00:00,  4.34 elements/s]  \n",
      "Escrivint resultats: 100%|██████████| 67129/67129 [00:00<00:00, 364538.16 elements/s]\n"
     ]
    },
    {
     "name": "stdout",
     "output_type": "stream",
     "text": [
      "Fet\n"
     ]
    }
   ],
   "source": [
    "import requests\n",
    "from tqdm import tqdm\n",
    "\n",
    "def llegir_fitxer(input_file):\n",
    "    try:\n",
    "        with open(input_file, 'r', encoding='utf-8') as f:\n",
    "            paraules = f.readlines()\n",
    "        return paraules\n",
    "    except FileNotFoundError:\n",
    "        print(f\"El fitxer {input_file} no existeix.\")\n",
    "        return []\n",
    "    except Exception as e:\n",
    "        print(f\"Error llegint el fitxer {input_file}: {e}\")\n",
    "        return []\n",
    "\n",
    "def comprovar_pagina_diec(paraula):\n",
    "    paraula = paraula.strip()\n",
    "    url = f'https://dlc.iec.cat/Results?DecEntradaText={paraula}&AllInfoMorf=False&OperEntrada=0&OperDef=0&OperEx=0&OperSubEntrada=0&OperAreaTematica=0&InfoMorfType=0&OperCatGram=False&AccentSen=False&CurrentPage=0&refineSearch=0&Actualitzacions=False'\n",
    "    try:\n",
    "        response = requests.get(url)\n",
    "        response.raise_for_status()\n",
    "        return \"No s'ha trobat cap entrada coincident amb els criteris de cerca\" not in response.text\n",
    "    except requests.RequestException as e:\n",
    "        print(f\"Error en la petició per a la paraula {paraula}: {e}\")\n",
    "        return False\n",
    "\n",
    "def escriure_resultats(output_file, resultats):\n",
    "    progress_bar = tqdm(total=len(resultats), desc=\"Escrivint resultats\", unit=\" elements\")\n",
    "    try:\n",
    "        with open(output_file, 'w', encoding='utf-8') as f:\n",
    "            for resultat in resultats:\n",
    "                f.writelines(resultat)\n",
    "                progress_bar.update(1)\n",
    "\n",
    "    except Exception as e:\n",
    "        print(f\"Error escrivint al fitxer {output_file}: {e}\")\n",
    "    \n",
    "    progress_bar.close()\n",
    "\n",
    "\n",
    "def executar_comprovacio(input_file, output_file):\n",
    "    paraules = llegir_fitxer(input_file)\n",
    "    if not paraules:\n",
    "        print(\"No hi ha paraules per processar.\")\n",
    "        return\n",
    "\n",
    "    resultats = []\n",
    "    \n",
    "    # Inicialitzem la barra de progrés \n",
    "    progress_bar = tqdm(total=len(paraules), desc=\"Comparant llistes\", unit=\" elements\")\n",
    "\n",
    "    for paraula in paraules:\n",
    "        if comprovar_pagina_diec(paraula):\n",
    "            resultats.append(paraula)\n",
    "        progress_bar.update(1)\n",
    "\n",
    "    progress_bar.close()\n",
    "    \n",
    "    escriure_resultats(output_file, resultats)\n",
    "\n",
    "    print(\"Fet\")\n",
    "\n",
    "input_file = '../diccionaris/separat/col_1_sense_repetir.txt'\n",
    "output_file = '../diccionaris/viccionari/paraules_sí_diec.txt'\n",
    "\n",
    "executar_comprovacio(input_file, output_file)"
   ]
  },
  {
   "cell_type": "code",
   "execution_count": 2,
   "metadata": {},
   "outputs": [
    {
     "name": "stdout",
     "output_type": "stream",
     "text": [
      "Fet\n"
     ]
    }
   ],
   "source": [
    "# Llegir l'arxiu principal\n",
    "with open('../diccionaris/diccionari_3.0.txt', 'r') as file:\n",
    "    principal_lines = file.readlines()\n",
    "\n",
    "# Llegir l'arxiu de comparació\n",
    "with open('../diccionaris/viccionari/paraules_sí_diec.txt', 'r') as file:\n",
    "    comparar_lines = file.readlines()\n",
    "\n",
    "# Crear un diccionari per les línies de comparació\n",
    "comparar_dict = {line.strip(): True for line in comparar_lines}\n",
    "\n",
    "# Dividir les línies de l'arxiu principal i crear una llista per les línies resultants\n",
    "resultat = []\n",
    "for line in principal_lines:\n",
    "    camps = line.split('$')\n",
    "    if len(camps) > 1 and camps[1].strip() in comparar_dict:\n",
    "        # Si coincideix, afegir \"Coincideix\" com a nova columna\n",
    "        line = line.rstrip() + '$Diec\\n'\n",
    "    else:\n",
    "        # Si no coincideix, afegir \"No coincideix\" com a nova columna\n",
    "        line = line.rstrip() + '$NO\\n'\n",
    "    resultat.append(line)\n",
    "\n",
    "# Escriure les línies resultants a un nou arxiu\n",
    "with open('resultat.txt', 'w') as file:\n",
    "    file.writelines(resultat)\n",
    "    \n",
    "print(\"Fet\")\n"
   ]
  }
 ],
 "metadata": {
  "kernelspec": {
   "display_name": "Python 3",
   "language": "python",
   "name": "python3"
  },
  "language_info": {
   "codemirror_mode": {
    "name": "ipython",
    "version": 3
   },
   "file_extension": ".py",
   "mimetype": "text/x-python",
   "name": "python",
   "nbconvert_exporter": "python",
   "pygments_lexer": "ipython3",
   "version": "3.11.5"
  }
 },
 "nbformat": 4,
 "nbformat_minor": 2
}
