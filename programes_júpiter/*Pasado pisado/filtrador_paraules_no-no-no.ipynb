{
 "cells": [
  {
   "cell_type": "code",
   "execution_count": 1,
   "metadata": {},
   "outputs": [
    {
     "name": "stdout",
     "output_type": "stream",
     "text": [
      "Les línies s'han filtrat correctament.\n"
     ]
    }
   ],
   "source": [
    "input = '../diccionaris/diccionari_3.4 (silabes + vic + viq + diec).txt'\n",
    "output = '../diccionaris/diccionari_4.0.txt'\n",
    "\n",
    "# Llegir les línies del fitxer\n",
    "with open(input, 'r', encoding='utf-8') as file:\n",
    "    linies = file.readlines()\n",
    "\n",
    "# Filtrar les línies en què les tres darreres columnes no siguin \"NO\"\n",
    "linies_filtrades = [linia for linia in linies if not linia.strip().endswith(\"NO$NO$NO\")]\n",
    "\n",
    "# Escriure les línies filtrades en un nou fitxer\n",
    "with open(output, 'w', encoding='utf-8') as file:\n",
    "    file.writelines(linies_filtrades)\n",
    "\n",
    "print(\"Les línies s'han filtrat correctament.\")"
   ]
  }
 ],
 "metadata": {
  "kernelspec": {
   "display_name": "Python 3",
   "language": "python",
   "name": "python3"
  },
  "language_info": {
   "codemirror_mode": {
    "name": "ipython",
    "version": 3
   },
   "file_extension": ".py",
   "mimetype": "text/x-python",
   "name": "python",
   "nbconvert_exporter": "python",
   "pygments_lexer": "ipython3",
   "version": "3.11.5"
  }
 },
 "nbformat": 4,
 "nbformat_minor": 2
}
