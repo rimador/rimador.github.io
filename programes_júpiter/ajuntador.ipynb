{
 "cells": [
  {
   "cell_type": "code",
   "execution_count": 1,
   "metadata": {},
   "outputs": [],
   "source": [
    "files = ['../diccionaris/separat/col_0.txt', '../diccionaris/separat/col_1.txt', '../diccionaris/separat/col_2.txt', '../diccionaris/separat/col_3.txt', '../diccionaris/separat/col_4.txt', \n",
    "         '../diccionaris/separat/col_5.txt', '../diccionaris/separat/col_6.txt', '../diccionaris/separat/col_7_nova.txt', '../diccionaris/separat/col_8.txt', '../diccionaris/separat/col_9.txt']\n",
    "\n",
    "lines_per_file = []\n",
    "for file in files:\n",
    "    with open(file, 'r') as f:\n",
    "        lines = f.readlines()\n",
    "        lines_per_file.append(lines)\n",
    "        \n",
    "output_file = 'resultat.txt'\n",
    "with open(output_file, 'w') as f:\n",
    "    # Iterem sobre cada línia (mateix nombre de línies per arxiu, segons l'especificació)\n",
    "    for i in range(len(lines_per_file[0])):\n",
    "        # Concatenem les línies de cada arxiu amb el símbol $\n",
    "        line_to_write = '$'.join([lines[i].strip() for lines in lines_per_file])\n",
    "        f.write(line_to_write + '\\n')\n"
   ]
  }
 ],
 "metadata": {
  "kernelspec": {
   "display_name": "Python 3",
   "language": "python",
   "name": "python3"
  },
  "language_info": {
   "codemirror_mode": {
    "name": "ipython",
    "version": 3
   },
   "file_extension": ".py",
   "mimetype": "text/x-python",
   "name": "python",
   "nbconvert_exporter": "python",
   "pygments_lexer": "ipython3",
   "version": "3.11.5"
  }
 },
 "nbformat": 4,
 "nbformat_minor": 2
}
