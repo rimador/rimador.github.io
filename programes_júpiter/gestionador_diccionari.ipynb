{
 "cells": [
  {
   "cell_type": "code",
   "execution_count": 15,
   "id": "8a4995f1-b36e-4996-ae9c-c32ee2e6855b",
   "metadata": {
    "tags": []
   },
   "outputs": [
    {
     "name": "stdout",
     "output_type": "stream",
     "text": [
      "Fet!\n",
      "Nombre d'impressions: 4793\n"
     ]
    }
   ],
   "source": [
    "#Escriu a un arxiu aquelles files del diccionari la tercera columna de la qual comenci o no amb determinades lletres\n",
    "def filtra_arxiu(entrada, sortida):\n",
    "    num = 0           \n",
    "    with open(entrada, 'r') as arxiu_entrada, open(sortida, 'w') as arxiu_sortida:\n",
    "        for linia in arxiu_entrada:\n",
    "            columnes = linia.split('$')   \n",
    "            if len(columnes) >= 3 and not columnes[2].startswith(\"N\") and not columnes[2].startswith(\"A\") and not columnes[2].startswith(\"V\") and not columnes[2].startswith(\"D\") and not columnes[2].startswith(\"P\"): # and columnes[2][7] == \"Z\": #and columnes[1].startswith(\"rodar\"): #and columnes[2][3] == \"P\"\n",
    "            #if len(columnes) >= 3 and columnes[2].startswith(\"F\"):\n",
    "                \n",
    "                arxiu_sortida.write(f\"{columnes[0]}, {columnes[2]}\\n\")   #Si no s'omet la fila de dalt, s'ha de treure un tab\n",
    "                #arxiu_sortida.write(f\"{columnes[2]}\\n\")   #Si no s'omet la fila de dalt, s'ha de treure un tab\n",
    "                num += 1\n",
    "\n",
    "    print(\"Fet!\")\n",
    "    print(f\"Nombre d'impressions: {num}\")\n",
    "\n",
    "# Exemple d'ús\n",
    "entrada = '../noudiccionari2.2.txt'\n",
    "sortida = 'resultats.txt'\n",
    "filtra_arxiu(entrada, sortida)\n"
   ]
  },
  {
   "cell_type": "code",
   "execution_count": null,
   "id": "8341c38c",
   "metadata": {},
   "outputs": [
    {
     "name": "stdout",
     "output_type": "stream",
     "text": [
      "Lletres a la posició 0, ordenades per nombre d'aparicions descendentment:\n",
      "   R: 4578 vegades\n",
      "   I: 133 vegades\n",
      "   S: 56 vegades\n",
      "   C: 24 vegades\n",
      "   F: 2 vegades\n"
     ]
    }
   ],
   "source": [
    "def lletres_a_posicio(arxiu, posicio, columnes):\n",
    "    lletres_comptades = {}\n",
    "\n",
    "    with open(arxiu, 'r') as f:\n",
    "        for linia in f:\n",
    "            linia = linia.strip().split(',')\n",
    "            if len(linia) >= columnes:\n",
    "                columna = linia[columnes - 1]\n",
    "                if len(columna) > posicio +1:\n",
    "                    lletra = columna[posicio +1]\n",
    "                    lletres_comptades[lletra] = lletres_comptades.get(lletra, 0) + 1\n",
    "\n",
    "    if lletres_comptades:\n",
    "        print(f\"Lletres a la posició {posicio}, ordenades per nombre d'aparicions descendentment:\")\n",
    "        for lletra, comptador in sorted(lletres_comptades.items(), key=lambda x: x[1], reverse=True):\n",
    "            print(f\"   {lletra}: {comptador} vegades\")\n",
    "    else:\n",
    "        print(f\"No hi ha lletres a la posició {posicio} en cap de les línies.\")\n",
    "\n",
    "\n",
    "# Exemple d'ús:\n",
    "nom_arxiu = 'resultats.txt'\n",
    "posicio_verificar = 0\n",
    "nombre_columnes = 2\n",
    "\n",
    "lletres_a_posicio(nom_arxiu, posicio_verificar, nombre_columnes)\n"
   ]
  },
  {
   "cell_type": "code",
   "execution_count": 1,
   "id": "d27b975a",
   "metadata": {},
   "outputs": [
    {
     "ename": "FileNotFoundError",
     "evalue": "[Errno 2] No such file or directory: 'resultats.txt'",
     "output_type": "error",
     "traceback": [
      "\u001b[0;31m---------------------------------------------------------------------------\u001b[0m",
      "\u001b[0;31mFileNotFoundError\u001b[0m                         Traceback (most recent call last)",
      "Cell \u001b[0;32mIn[1], line 17\u001b[0m\n\u001b[1;32m     14\u001b[0m posicio_verificar \u001b[38;5;241m=\u001b[39m \u001b[38;5;241m7\u001b[39m  \u001b[38;5;66;03m# Canvia a la posició que desitgis\u001b[39;00m\n\u001b[1;32m     15\u001b[0m lletres_permeses \u001b[38;5;241m=\u001b[39m [\u001b[38;5;124m'\u001b[39m\u001b[38;5;124mA\u001b[39m\u001b[38;5;124m'\u001b[39m, \u001b[38;5;124m'\u001b[39m\u001b[38;5;124mM\u001b[39m\u001b[38;5;124m'\u001b[39m, \u001b[38;5;124m'\u001b[39m\u001b[38;5;124mS\u001b[39m\u001b[38;5;124m'\u001b[39m]  \u001b[38;5;66;03m# Canvia a les lletres que desitgis permetre\u001b[39;00m\n\u001b[0;32m---> 17\u001b[0m resultat \u001b[38;5;241m=\u001b[39m \u001b[43mcomprova_lletres\u001b[49m\u001b[43m(\u001b[49m\u001b[43mnom_arxiu\u001b[49m\u001b[43m,\u001b[49m\u001b[43m \u001b[49m\u001b[43mposicio_verificar\u001b[49m\u001b[43m,\u001b[49m\u001b[43m \u001b[49m\u001b[43mlletres_permeses\u001b[49m\u001b[43m)\u001b[49m\n\u001b[1;32m     19\u001b[0m \u001b[38;5;28;01mif\u001b[39;00m resultat:\n\u001b[1;32m     20\u001b[0m     \u001b[38;5;28mprint\u001b[39m(\u001b[38;5;124mf\u001b[39m\u001b[38;5;124m\"\u001b[39m\u001b[38;5;124mTotes les lletres a la posició \u001b[39m\u001b[38;5;132;01m{\u001b[39;00mposicio_verificar\u001b[38;5;132;01m}\u001b[39;00m\u001b[38;5;124m són les que permets.\u001b[39m\u001b[38;5;124m\"\u001b[39m)\n",
      "Cell \u001b[0;32mIn[1], line 5\u001b[0m, in \u001b[0;36mcomprova_lletres\u001b[0;34m(arxiu, posicio, lletres_permeses)\u001b[0m\n\u001b[1;32m      4\u001b[0m \u001b[38;5;28;01mdef\u001b[39;00m \u001b[38;5;21mcomprova_lletres\u001b[39m(arxiu, posicio, lletres_permeses):\n\u001b[0;32m----> 5\u001b[0m     \u001b[38;5;28;01mwith\u001b[39;00m \u001b[38;5;28;43mopen\u001b[39;49m\u001b[43m(\u001b[49m\u001b[43marxiu\u001b[49m\u001b[43m,\u001b[49m\u001b[43m \u001b[49m\u001b[38;5;124;43m'\u001b[39;49m\u001b[38;5;124;43mr\u001b[39;49m\u001b[38;5;124;43m'\u001b[39;49m\u001b[43m)\u001b[49m \u001b[38;5;28;01mas\u001b[39;00m f:\n\u001b[1;32m      6\u001b[0m         \u001b[38;5;28;01mfor\u001b[39;00m linia \u001b[38;5;129;01min\u001b[39;00m f:\n\u001b[1;32m      7\u001b[0m             linia \u001b[38;5;241m=\u001b[39m linia\u001b[38;5;241m.\u001b[39mstrip()  \u001b[38;5;66;03m# Elimina els caràcters de nova línia o espais al principi i al final\u001b[39;00m\n",
      "File \u001b[0;32m~/Library/Python/3.11/lib/python/site-packages/IPython/core/interactiveshell.py:310\u001b[0m, in \u001b[0;36m_modified_open\u001b[0;34m(file, *args, **kwargs)\u001b[0m\n\u001b[1;32m    303\u001b[0m \u001b[38;5;28;01mif\u001b[39;00m file \u001b[38;5;129;01min\u001b[39;00m {\u001b[38;5;241m0\u001b[39m, \u001b[38;5;241m1\u001b[39m, \u001b[38;5;241m2\u001b[39m}:\n\u001b[1;32m    304\u001b[0m     \u001b[38;5;28;01mraise\u001b[39;00m \u001b[38;5;167;01mValueError\u001b[39;00m(\n\u001b[1;32m    305\u001b[0m         \u001b[38;5;124mf\u001b[39m\u001b[38;5;124m\"\u001b[39m\u001b[38;5;124mIPython won\u001b[39m\u001b[38;5;124m'\u001b[39m\u001b[38;5;124mt let you open fd=\u001b[39m\u001b[38;5;132;01m{\u001b[39;00mfile\u001b[38;5;132;01m}\u001b[39;00m\u001b[38;5;124m by default \u001b[39m\u001b[38;5;124m\"\u001b[39m\n\u001b[1;32m    306\u001b[0m         \u001b[38;5;124m\"\u001b[39m\u001b[38;5;124mas it is likely to crash IPython. If you know what you are doing, \u001b[39m\u001b[38;5;124m\"\u001b[39m\n\u001b[1;32m    307\u001b[0m         \u001b[38;5;124m\"\u001b[39m\u001b[38;5;124myou can use builtins\u001b[39m\u001b[38;5;124m'\u001b[39m\u001b[38;5;124m open.\u001b[39m\u001b[38;5;124m\"\u001b[39m\n\u001b[1;32m    308\u001b[0m     )\n\u001b[0;32m--> 310\u001b[0m \u001b[38;5;28;01mreturn\u001b[39;00m \u001b[43mio_open\u001b[49m\u001b[43m(\u001b[49m\u001b[43mfile\u001b[49m\u001b[43m,\u001b[49m\u001b[43m \u001b[49m\u001b[38;5;241;43m*\u001b[39;49m\u001b[43margs\u001b[49m\u001b[43m,\u001b[49m\u001b[43m \u001b[49m\u001b[38;5;241;43m*\u001b[39;49m\u001b[38;5;241;43m*\u001b[39;49m\u001b[43mkwargs\u001b[49m\u001b[43m)\u001b[49m\n",
      "\u001b[0;31mFileNotFoundError\u001b[0m: [Errno 2] No such file or directory: 'resultats.txt'"
     ]
    }
   ],
   "source": [
    "#Comprova si hi ha determinades lletres en una posició del codi (requereix tenir un arxiu de text amb només el codi, es pot fer canviant la línia de l'arxiu de sortida del codi de dalt)\n",
    "\n",
    "\n",
    "def comprova_lletres(arxiu, posicio, lletres_permeses):\n",
    "    with open(arxiu, 'r') as f:\n",
    "        for linia in f:\n",
    "            linia = linia.strip()  # Elimina els caràcters de nova línia o espais al principi i al final\n",
    "            if len(linia) > posicio and linia[posicio] not in lletres_permeses:\n",
    "                return False\n",
    "    return True\n",
    "\n",
    "# Exemple d'ús:\n",
    "nom_arxiu = 'resultats.txt'\n",
    "posicio_verificar = 7  # Canvia a la posició que desitgis\n",
    "lletres_permeses = ['A', 'M', 'S']  # Canvia a les lletres que desitgis permetre\n",
    "\n",
    "resultat = comprova_lletres(nom_arxiu, posicio_verificar, lletres_permeses)\n",
    "\n",
    "if resultat:\n",
    "    print(f\"Totes les lletres a la posició {posicio_verificar} són les que permets.\")\n",
    "else:\n",
    "    print(f\"Hi ha almenys una línia amb una lletra no permesa a la posició {posicio_verificar}.\")\n"
   ]
  },
  {
   "cell_type": "code",
   "execution_count": null,
   "id": "e3908fd4-7b44-4a98-bfb4-923d362d15ae",
   "metadata": {
    "tags": []
   },
   "outputs": [
    {
     "ename": "IndexError",
     "evalue": "list index out of range",
     "output_type": "error",
     "traceback": [
      "\u001b[0;31m---------------------------------------------------------------------------\u001b[0m",
      "\u001b[0;31mIndexError\u001b[0m                                Traceback (most recent call last)",
      "Cell \u001b[0;32mIn[22], line 21\u001b[0m\n\u001b[1;32m     19\u001b[0m nom_fitxer \u001b[38;5;241m=\u001b[39m \u001b[38;5;124m'\u001b[39m\u001b[38;5;124m../diccionari_original.txt\u001b[39m\u001b[38;5;124m'\u001b[39m\n\u001b[1;32m     20\u001b[0m  \u001b[38;5;66;03m# Canvia-ho amb la ruta del teu fitxer\u001b[39;00m\n\u001b[0;32m---> 21\u001b[0m resultat \u001b[38;5;241m=\u001b[39m \u001b[43mcontar_elements_unics\u001b[49m\u001b[43m(\u001b[49m\u001b[43mnom_fitxer\u001b[49m\u001b[43m)\u001b[49m\n\u001b[1;32m     22\u001b[0m \u001b[38;5;28mprint\u001b[39m(\u001b[38;5;124mf\u001b[39m\u001b[38;5;124m\"\u001b[39m\u001b[38;5;124mHi ha \u001b[39m\u001b[38;5;132;01m{\u001b[39;00mresultat\u001b[38;5;132;01m}\u001b[39;00m\u001b[38;5;124m elements únics a la segona columna del fitxer.\u001b[39m\u001b[38;5;124m\"\u001b[39m)\n",
      "Cell \u001b[0;32mIn[22], line 9\u001b[0m, in \u001b[0;36mcontar_elements_unics\u001b[0;34m(nom_arxiu)\u001b[0m\n\u001b[1;32m      6\u001b[0m \u001b[38;5;28;01mfor\u001b[39;00m linia \u001b[38;5;129;01min\u001b[39;00m arxiu:\n\u001b[1;32m      7\u001b[0m     \u001b[38;5;66;03m# Dividir la línia per comes i agafar la segona columna (índex 1)\u001b[39;00m\n\u001b[1;32m      8\u001b[0m     columnes \u001b[38;5;241m=\u001b[39m linia\u001b[38;5;241m.\u001b[39mstrip()\u001b[38;5;241m.\u001b[39msplit(\u001b[38;5;124m'\u001b[39m\u001b[38;5;124m \u001b[39m\u001b[38;5;124m'\u001b[39m)\n\u001b[0;32m----> 9\u001b[0m     segona_columna \u001b[38;5;241m=\u001b[39m \u001b[43mcolumnes\u001b[49m\u001b[43m[\u001b[49m\u001b[38;5;241;43m1\u001b[39;49m\u001b[43m]\u001b[49m\u001b[38;5;241m.\u001b[39mstrip()\n\u001b[1;32m     10\u001b[0m     tercerca_columna \u001b[38;5;241m=\u001b[39m columnes[\u001b[38;5;241m2\u001b[39m]\u001b[38;5;241m.\u001b[39mstrip()\n\u001b[1;32m     12\u001b[0m     \u001b[38;5;66;03m# Afegir l'element a conjunt\u001b[39;00m\n",
      "\u001b[0;31mIndexError\u001b[0m: list index out of range"
     ]
    }
   ],
   "source": [
    "def contar_elements_unics(nom_arxiu):\n",
    "    # Crear un conjunt per emmagatzemar els elements únics\n",
    "    elements_unics = set()\n",
    "\n",
    "    with open(nom_arxiu, 'r') as arxiu:\n",
    "        for linia in arxiu:\n",
    "            # Dividir la línia per comes i agafar la segona columna (índex 1)\n",
    "            columnes = linia.strip().split(' ')\n",
    "            segona_columna = columnes[1].strip()\n",
    "            tercerca_columna = columnes[2].strip()\n",
    "\n",
    "            # Afegir l'element a conjunt\n",
    "            elements_unics.add(segona_columna)\n",
    "\n",
    "    # Retornar la quantitat d'elements únics\n",
    "    return len(elements_unics)\n",
    "\n",
    "# Exemple d'ús\n",
    "nom_fitxer = '../diccionari_original.txt'\n",
    " # Canvia-ho amb la ruta del teu fitxer\n",
    "resultat = contar_elements_unics(nom_fitxer)\n",
    "print(f\"Hi ha {resultat} elements únics a la segona columna del fitxer.\")\n"
   ]
  },
  {
   "cell_type": "code",
   "execution_count": null,
   "id": "929d4b96-922e-4e97-8c17-f1d9588a26c3",
   "metadata": {
    "tags": []
   },
   "outputs": [
    {
     "name": "stdout",
     "output_type": "stream",
     "text": [
      "L'arxiu 'diccionaricatalacomplert (1).txt' té 1191974 línies.\n"
     ]
    }
   ],
   "source": [
    "def comptar_linies(nom_arxiu):\n",
    "    try:\n",
    "        with open(nom_arxiu, 'r') as arxiu:\n",
    "            linies = arxiu.readlines()\n",
    "            num_linies = len(linies)\n",
    "            print(f\"L'arxiu '{nom_arxiu}' té {num_linies} línies.\")\n",
    "    except FileNotFoundError:\n",
    "        print(f\"No s'ha trobat l'arxiu '{nom_arxiu}'.\")\n",
    "    except Exception as e:\n",
    "        print(f\"S'ha produït un error: {e}\")\n",
    "\n",
    "# Exemple d'ús\n",
    "nom_arxiu = 'diccionaricatalacomplert (1).txt'  # Canvia-ho pel nom de l'arxiu que vols comptar\n",
    "comptar_linies(nom_arxiu)\n"
   ]
  },
  {
   "cell_type": "code",
   "execution_count": 3,
   "id": "20082403",
   "metadata": {},
   "outputs": [
    {
     "name": "stdout",
     "output_type": "stream",
     "text": [
      "S'han filtrat les línies i s'han desat a 'àtones_turbies.txt'.\n"
     ]
    }
   ],
   "source": [
    "def comptar_apòstrofs(linia):\n",
    "    return linia.count(\"ˈ\")  # Compta quants cops apareix \"ˈ\"\n",
    "\n",
    "def filtrar_linies(entrada, sortida):\n",
    "    with open(entrada, 'r', encoding='utf-8') as f_entrada, open(sortida, 'w', encoding='utf-8') as f_sortida:\n",
    "        for linia in f_entrada:\n",
    "            if comptar_apòstrofs(linia) < 2:  # Si hi ha menys de 2, escriu la línia\n",
    "                f_sortida.write(linia)\n",
    "\n",
    "if __name__ == \"__main__\":\n",
    "    arxiu_entrada = '../diccionaris/diccionari_4.6(ordenat_accents).txt'  # Arxiu d'entrada\n",
    "    arxiu_sortida = 'àtones_turbies.txt'  # Arxiu de sortida\n",
    "\n",
    "    filtrar_linies(arxiu_entrada, arxiu_sortida)\n",
    "    print(f\"S'han filtrat les línies i s'han desat a '{arxiu_sortida}'.\")"
   ]
  },
  {
   "cell_type": "code",
   "execution_count": 4,
   "id": "d575935e",
   "metadata": {},
   "outputs": [],
   "source": [
    "def process_text_file(input_filename, output_filename):\n",
    "    with open(input_filename, 'r', encoding='utf-8') as infile:\n",
    "        text = infile.read()\n",
    "    \n",
    "    cleaned_text = text.replace(\" \", \"\").replace(\".\", \"\")\n",
    "    \n",
    "    with open(output_filename, 'w', encoding='utf-8') as outfile:\n",
    "        outfile.write(cleaned_text)\n",
    "\n",
    "# Exemple d'ús\n",
    "input_file = \"../diccionaris/separat/col_3.txt\"  # Nom del fitxer d'entrada\n",
    "output_file = \"col_3_sense_espais.txt\"  # Nom del fitxer de sortida\n",
    "process_text_file(input_file, output_file)"
   ]
  },
  {
   "cell_type": "code",
   "execution_count": 3,
   "id": "8f88695f",
   "metadata": {},
   "outputs": [
    {
     "name": "stdout",
     "output_type": "stream",
     "text": [
      "S'han guardat les diferències a diferències.txt\n"
     ]
    }
   ],
   "source": [
    "import re\n",
    "\n",
    "def normalitza(text):\n",
    "    text = re.sub(r'b', 'β', text)\n",
    "    text = re.sub(r'd', 'ð', text)\n",
    "    text = re.sub(r'g', 'ɣ', text)\n",
    "    text = re.sub(r'r', 'ɾ', text)\n",
    "    text = re.sub(r'ɾ', 'r', text)\n",
    "    return text\n",
    "\n",
    "def compara_arxius(archivo1, archivo2, archivo_salida):\n",
    "    with open(archivo1, 'r', encoding='utf-8') as f1, open(archivo2, 'r', encoding='utf-8') as f2:\n",
    "        lineas1 = f1.readlines()\n",
    "        lineas2 = f2.readlines()\n",
    "    \n",
    "    max_lines = max(len(lineas1), len(lineas2))\n",
    "    diferencias = []\n",
    "    \n",
    "    for i in range(max_lines):\n",
    "        linea1 = lineas1[i].strip() if i < len(lineas1) else \"(No existeix)\"\n",
    "        linea2 = lineas2[i].strip() if i < len(lineas2) else \"(No existeix)\"\n",
    "        \n",
    "        if normalitza(linea1) != normalitza(linea2):\n",
    "            diferencias.append(f\"{i+1}: {linea1} ; {linea2}\\n\")\n",
    "    \n",
    "    if diferencias:\n",
    "        with open(archivo_salida, 'w', encoding='utf-8') as f_out:\n",
    "            f_out.writelines(diferencias)\n",
    "        print(f\"S'han guardat les diferències a {archivo_salida}\")\n",
    "    else:\n",
    "        print(\"No s'han trobat diferències.\")\n",
    "\n",
    "# Exemple d'ús\n",
    "fitxer1 = 'col_3_sense_espais.txt'\n",
    "fitxer2 = 'transc_col0_aina.txt'\n",
    "fitxer3 = 'diferències.txt'\n",
    "compara_arxius(fitxer1, fitxer2, fitxer3)"
   ]
  }
 ],
 "metadata": {
  "kernelspec": {
   "display_name": "Python 3",
   "language": "python",
   "name": "python3"
  },
  "language_info": {
   "codemirror_mode": {
    "name": "ipython",
    "version": 3
   },
   "file_extension": ".py",
   "mimetype": "text/x-python",
   "name": "python",
   "nbconvert_exporter": "python",
   "pygments_lexer": "ipython3",
   "version": "3.11.5"
  }
 },
 "nbformat": 4,
 "nbformat_minor": 5
}
