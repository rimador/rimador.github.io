{
 "cells": [
  {
   "cell_type": "code",
   "execution_count": 6,
   "metadata": {},
   "outputs": [],
   "source": [
    "# Obrim els fitxers d'entrada i sortida\n",
    "document = '../diccionaris/diccionari_4.3(ordenat).txt'\n",
    "document2 = '../diccionaris/diccionari_4.4.txt'\n",
    "\n",
    "with open(document, 'r') as f, open(document2, 'w') as out_f, open('eliminades 2a vegada.txt', 'w') as del_f:\n",
    "    for line in f:\n",
    "        # Separem les columnes per '$'\n",
    "        columns = line.strip().split('$')\n",
    "\n",
    "        # Comprovem si hi ha prou columnes abans de fer les verificacions\n",
    "        if len(columns) >= 3:\n",
    "            primera_columna = columns[0]\n",
    "\n",
    "            # Si la primera columna té més d'1 majúscula i cap minúscula\n",
    "            if sum(1 for c in primera_columna if c.isupper()) > 1 and not any(c.islower() for c in primera_columna):\n",
    "                del_f.write(line)  # Guardem la línia eliminada\n",
    "            else:\n",
    "                out_f.write(line)  # Guardem la línia netejada\n",
    "        \n",
    "        else:\n",
    "            out_f.write(line)  # Si la línia no té prou columnes, la guardem tal com està\n"
   ]
  }
 ],
 "metadata": {
  "kernelspec": {
   "display_name": "Python 3",
   "language": "python",
   "name": "python3"
  },
  "language_info": {
   "codemirror_mode": {
    "name": "ipython",
    "version": 3
   },
   "file_extension": ".py",
   "mimetype": "text/x-python",
   "name": "python",
   "nbconvert_exporter": "python",
   "pygments_lexer": "ipython3",
   "version": "3.11.5"
  }
 },
 "nbformat": 4,
 "nbformat_minor": 2
}
