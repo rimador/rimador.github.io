{
 "cells": [
  {
   "cell_type": "code",
   "execution_count": null,
   "metadata": {},
   "outputs": [],
   "source": [
    "document = '../diccionaris/diccionari_4.4.txt'\n",
    "document2 = '../diccionaris/diccionari_4.5.txt'\n",
    "\n",
    "with open(document, 'r') as f, open(document2, 'w') as out_f, open('eliminades 3a vegada.txt', 'w') as del_f:\n",
    "    for line in f:\n",
    "        # Separem les columnes per '$'\n",
    "        columns = line.strip().split('$')\n",
    "\n",
    "        # Comprovem si hi ha prou columnes abans de fer les verificacions\n",
    "        if len(columns) >= 3:\n",
    "            primera_columna = columns[0]\n",
    "\n",
    "            # Comprovem si la primera columna té més d'1 majúscula i com a màxim 2 minúscules\n",
    "            upper_count = sum(1 for c in primera_columna if c.isupper())\n",
    "            lower_count = sum(1 for c in primera_columna if c.islower())\n",
    "\n",
    "            if upper_count > 1 and lower_count <= 3:\n",
    "                del_f.write(line)  # Guardem la línia eliminada\n",
    "            else:\n",
    "                out_f.write(line)  # Guardem la línia netejada\n",
    "        \n",
    "        else:\n",
    "            out_f.write(line)  # Si la línia no té prou columnes, la guardem tal com està\n"
   ]
  }
 ],
 "metadata": {
  "kernelspec": {
   "display_name": "Python 3",
   "language": "python",
   "name": "python3"
  },
  "language_info": {
   "codemirror_mode": {
    "name": "ipython",
    "version": 3
   },
   "file_extension": ".py",
   "mimetype": "text/x-python",
   "name": "python",
   "nbconvert_exporter": "python",
   "pygments_lexer": "ipython3",
   "version": "3.11.5"
  }
 },
 "nbformat": 4,
 "nbformat_minor": 2
}
