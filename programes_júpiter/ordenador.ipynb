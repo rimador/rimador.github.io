{
 "cells": [
  {
   "cell_type": "code",
   "execution_count": 2,
   "metadata": {},
   "outputs": [],
   "source": [
    "import unicodedata\n",
    "\n",
    "def ordenar_arxiu(input_file, output_file):\n",
    "    def remove_accents(input_str):\n",
    "        return ''.join(char for char in unicodedata.normalize('NFD', input_str)\n",
    "                       if unicodedata.category(char) != 'Mn')\n",
    "\n",
    "    with open(input_file, 'r', encoding='utf-8') as f:\n",
    "        lines = f.readlines()\n",
    "    \n",
    "    # Ordena les línies, ignorant majúscules i considerant només fins al primer $\n",
    "    lines.sort(key=lambda line: remove_accents(line.split('$')[0].lower()))\n",
    "    \n",
    "    with open(output_file, 'w', encoding='utf-8') as f:\n",
    "        f.writelines(lines)\n",
    "\n",
    "# Exemple d'ús\n",
    "input_file = '../diccionaris/diccionari_4.5.txt'\n",
    "output_file = '../diccionaris/diccionari_4.6(ordenat_accents).txt'\n",
    "\n",
    "ordenar_arxiu(input_file, output_file)\n"
   ]
  }
 ],
 "metadata": {
  "kernelspec": {
   "display_name": "Python 3",
   "language": "python",
   "name": "python3"
  },
  "language_info": {
   "codemirror_mode": {
    "name": "ipython",
    "version": 3
   },
   "file_extension": ".py",
   "mimetype": "text/x-python",
   "name": "python",
   "nbconvert_exporter": "python",
   "pygments_lexer": "ipython3",
   "version": "3.11.5"
  }
 },
 "nbformat": 4,
 "nbformat_minor": 2
}
