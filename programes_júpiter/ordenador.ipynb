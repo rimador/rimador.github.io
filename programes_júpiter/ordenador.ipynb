{
 "cells": [
  {
   "cell_type": "code",
   "execution_count": 2,
   "metadata": {},
   "outputs": [],
   "source": [
    "def ordenar_arxiu(input_file, output_file):\n",
    "    with open(input_file, 'r', encoding='utf-8') as f:\n",
    "        lines = f.readlines()\n",
    "    \n",
    "    # Ordenar les línies ignorant majúscules i considerant només fins al primer $\n",
    "    lines.sort(key=lambda line: line.split('$')[0].lower())\n",
    "    \n",
    "    with open(output_file, 'w', encoding='utf-8') as f:\n",
    "        f.writelines(lines)\n",
    "\n",
    "# Exemple d'ús\n",
    "input_file = '../diccionaris/diccionari_4.2.txt'\n",
    "output_file = '../diccionaris/diccionari_4.3(ordenat).txt'\n",
    "\n",
    "ordenar_arxiu(input_file, output_file)"
   ]
  }
 ],
 "metadata": {
  "kernelspec": {
   "display_name": "Python 3",
   "language": "python",
   "name": "python3"
  },
  "language_info": {
   "codemirror_mode": {
    "name": "ipython",
    "version": 3
   },
   "file_extension": ".py",
   "mimetype": "text/x-python",
   "name": "python",
   "nbconvert_exporter": "python",
   "pygments_lexer": "ipython3",
   "version": "3.11.5"
  }
 },
 "nbformat": 4,
 "nbformat_minor": 2
}
