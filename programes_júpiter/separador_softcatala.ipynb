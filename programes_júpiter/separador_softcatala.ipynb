{
 "cells": [
  {
   "cell_type": "code",
   "execution_count": 3,
   "metadata": {},
   "outputs": [
    {
     "name": "stdout",
     "output_type": "stream",
     "text": [
      "Fet\n"
     ]
    }
   ],
   "source": [
    "def extreure_numeros(input_file, output_file):\n",
    "    with open(input_file, 'r') as file:\n",
    "        contingut = file.read()\n",
    "\n",
    "    numeros = []\n",
    "    numero_actual = \"\"\n",
    "    for caracter in contingut:\n",
    "        if caracter.isdigit():\n",
    "            numero_actual += caracter\n",
    "        elif numero_actual:\n",
    "            numeros.append(numero_actual)\n",
    "            numero_actual = \"\"\n",
    "\n",
    "    if numero_actual:\n",
    "        numeros.append(numero_actual)\n",
    "\n",
    "    with open(output_file, 'w') as file:\n",
    "        for numero in numeros:\n",
    "            file.write(numero + '\\n')\n",
    "\n",
    "    print(\"Fet\")\n",
    "    \n",
    "# Exemple d'ús\n",
    "input_file = '../diccionaris/silabes_softcatala.txt'  # Canvia aquest nom pel del teu fitxer d'entrada\n",
    "output_file = '../diccionaris/columna_silabes.txt'  # Canvia aquest nom pel del teu fitxer de sortida\n",
    "extreure_numeros(input_file, output_file)"
   ]
  }
 ],
 "metadata": {
  "kernelspec": {
   "display_name": "Python 3",
   "language": "python",
   "name": "python3"
  },
  "language_info": {
   "codemirror_mode": {
    "name": "ipython",
    "version": 3
   },
   "file_extension": ".py",
   "mimetype": "text/x-python",
   "name": "python",
   "nbconvert_exporter": "python",
   "pygments_lexer": "ipython3",
   "version": "3.11.5"
  }
 },
 "nbformat": 4,
 "nbformat_minor": 2
}
