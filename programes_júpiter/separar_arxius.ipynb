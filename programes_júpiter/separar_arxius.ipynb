{
 "cells": [
  {
   "cell_type": "code",
   "execution_count": 5,
   "metadata": {},
   "outputs": [
    {
     "name": "stdout",
     "output_type": "stream",
     "text": [
      "Nombre de fitxers generats: 11\n",
      "El nombre de línies de ../diccionaris/separat/col_0.txt és: 658540\n",
      "El nombre de línies de ../diccionaris/separat/col_1.txt és: 658540\n",
      "El nombre de línies de ../diccionaris/separat/col_2.txt és: 658540\n",
      "El nombre de línies de ../diccionaris/separat/col_3.txt és: 658540\n",
      "El nombre de línies de ../diccionaris/separat/col_4.txt és: 658540\n",
      "El nombre de línies de ../diccionaris/separat/col_5.txt és: 658540\n",
      "El nombre de línies de ../diccionaris/separat/col_6.txt és: 658540\n",
      "El nombre de línies de ../diccionaris/separat/col_7.txt és: 658540\n",
      "El nombre de línies de ../diccionaris/separat/col_8.txt és: 658540\n",
      "El nombre de línies de ../diccionaris/separat/col_9.txt és: 658540\n",
      "El nombre de línies de ../diccionaris/separat/col_10.txt és: 658540\n",
      "Funció acabada!\n"
     ]
    }
   ],
   "source": [
    "import os\n",
    "\n",
    "directori_destinacio = \"../diccionaris/separat/\"\n",
    "\n",
    "if not os.path.exists(directori_destinacio):\n",
    "    os.makedirs(directori_destinacio)\n",
    "\n",
    "with open(\"../diccionaris/diccionari_4.0.txt\", \"r\") as file:\n",
    "    linies = file.readlines()\n",
    "\n",
    "columnes = [linia.split(\"$\") for linia in linies]\n",
    "\n",
    "max_columnes = max(len(col) for col in columnes)\n",
    "columnes = [col + [\"\"] * (max_columnes - len(col)) for col in columnes]  # Completa les columnes si cal\n",
    "columnes_transposed = list(zip(*columnes)) \n",
    "\n",
    "def noms(i):\n",
    "    return f\"col_{i}\"\n",
    "    \n",
    "for i, columna in enumerate(columnes_transposed):\n",
    "    nom_fitxer = f\"{directori_destinacio}/col_{i}.txt\" \n",
    "    with open(nom_fitxer, \"w\") as output_file:\n",
    "        if i < 10:\n",
    "            output_file.write(\"\\n\".join(columna))\n",
    "        else:    \n",
    "            output_file.write(\"\".join(columna))\n",
    "\n",
    "num_fitxers_generats = len(columnes_transposed)\n",
    "\n",
    "def comptar_linees_fitxer(nom_fitxer):\n",
    "    try:\n",
    "        with open(nom_fitxer, 'r') as fitxer:\n",
    "            linees = fitxer.readlines()\n",
    "            nombre_linees = len(linees)\n",
    "            return nombre_linees\n",
    "    except FileNotFoundError:\n",
    "        return \"El fitxer no existeix.\"\n",
    "\n",
    "print(f\"Nombre de fitxers generats: {num_fitxers_generats}\")\n",
    "\n",
    "for i in range(0, num_fitxers_generats):\n",
    "    nom_fitxer = f\"../diccionaris/separat/col_{i}.txt\"\n",
    "    resultat = comptar_linees_fitxer(nom_fitxer)\n",
    "    print(f\"El nombre de línies de {nom_fitxer} és: {resultat}\")\n",
    "\n",
    "print(\"Funció acabada!\")\n"
   ]
  }
 ],
 "metadata": {
  "kernelspec": {
   "display_name": "Python 3",
   "language": "python",
   "name": "python3"
  },
  "language_info": {
   "codemirror_mode": {
    "name": "ipython",
    "version": 3
   },
   "file_extension": ".py",
   "mimetype": "text/x-python",
   "name": "python",
   "nbconvert_exporter": "python",
   "pygments_lexer": "ipython3",
   "version": "3.11.5"
  }
 },
 "nbformat": 4,
 "nbformat_minor": 2
}
